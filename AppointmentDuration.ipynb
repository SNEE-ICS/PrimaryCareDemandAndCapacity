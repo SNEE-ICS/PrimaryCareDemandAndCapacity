{
 "cells": [
  {
   "cell_type": "code",
   "execution_count": 2,
   "metadata": {},
   "outputs": [
    {
     "ename": "SyntaxError",
     "evalue": "invalid syntax (2655615332.py, line 4)",
     "output_type": "error",
     "traceback": [
      "\u001b[0;36m  Cell \u001b[0;32mIn[2], line 4\u001b[0;36m\u001b[0m\n\u001b[0;31m    import .constants as const\u001b[0m\n\u001b[0m           ^\u001b[0m\n\u001b[0;31mSyntaxError\u001b[0m\u001b[0;31m:\u001b[0m invalid syntax\n"
     ]
    }
   ],
   "source": [
    "import numpy as np\n",
    "import pandas as pd\n",
    "from ..schemas import DataCatalog\n",
    "from ..constants import "
   ]
  },
  {
   "cell_type": "code",
   "execution_count": 2,
   "metadata": {},
   "outputs": [],
   "source": [
    "\n",
    "\n",
    "data_catalog = DataCatalog.load_from_yaml(\"data_catalog.yaml\")"
   ]
  },
  {
   "cell_type": "code",
   "execution_count": 3,
   "metadata": {},
   "outputs": [],
   "source": [
    "appointments_df = data_catalog.single_data_sources[-1].load()\n",
    "\n",
    "appointments_df = (\n",
    "    appointments_df # select only the columns we need, and remove unknown\n",
    "    .loc[(appointments_df['SUB_ICB_LOCATION_CODE'].isin(const.SUB_ICB_CODES.keys())) & (appointments_df['ACTUAL_DURATION'] != \"Unknown / Data Quality\")]\n",
    "    .assign(\n",
    "        Alliance=appointments_df['SUB_ICB_LOCATION_CODE'].map(\n",
    "            const.SUB_ICB_CODES), # add the alliance column\n",
    "        Date=pd.to_datetime(appointments_df['Appointment_Date'], format='%d%b%Y')) # convert the date column to datetime\n",
    "        # drop the columns we don't need\n",
    "    .drop(columns=['SUB_ICB_LOCATION_CODE', 'SUB_ICB_LOCATION_ONS_CODE', 'SUB_ICB_LOCATION_NAME', 'ICB_ONS_CODE', 'REGION_ONS_CODE', 'Appointment_Date']))\n"
   ]
  },
  {
   "cell_type": "code",
   "execution_count": 4,
   "metadata": {},
   "outputs": [],
   "source": [
    "appointments_binned_df = (appointments_df\n",
    "                          .groupby(['Alliance',pd.Grouper(key='Date',freq='BA-MAR',label='right'),'ACTUAL_DURATION'])\n",
    "                          .sum()\n",
    "                          .reset_index()\n",
    "                          .rename(columns={'Date':'FY'}).replace({\"1-5\":\"01-05\",\"6-10\":\"06-10\"}))"
   ]
  },
  {
   "cell_type": "code",
   "execution_count": 6,
   "metadata": {},
   "outputs": [
    {
     "data": {
      "text/plain": [
       "array([0.43537468, 0.03624237, 0.15064856, 0.47267519, 0.12851683,\n",
       "       0.91040526, 0.16088713, 0.08255789, 0.81974263, 0.87500023,\n",
       "       0.59457152, 0.57844956, 0.43358122, 0.04077597, 0.57132724,\n",
       "       0.1480304 , 0.99021018, 0.77186945, 0.80901404, 0.11880985,\n",
       "       0.42336895, 0.0751471 , 0.69858872, 0.5513931 , 0.39472431,\n",
       "       0.59574685, 0.4675436 , 0.85090586, 0.36487139, 0.40626788,\n",
       "       0.53728341, 0.32057532, 0.72268878, 0.46937047, 0.9314151 ,\n",
       "       0.90719237, 0.43297593, 0.29708878, 0.47095081, 0.34919065,\n",
       "       0.98769113, 0.01856184, 0.39253885, 0.12025316, 0.75834377,\n",
       "       0.05240629, 0.71941517, 0.08318037, 0.3386926 , 0.65723094,\n",
       "       0.6118134 , 0.80883695, 0.57880593, 0.364962  , 0.10980673,\n",
       "       0.50143328, 0.63257975, 0.36869719, 0.06306442, 0.81101938,\n",
       "       0.46040184, 0.67791748, 0.87390107, 0.0571514 , 0.80329688,\n",
       "       0.55264029, 0.72453566, 0.01165812, 0.64763558, 0.78228791,\n",
       "       0.19713836, 0.32501288, 0.22453662, 0.44950226, 0.05446558,\n",
       "       0.50191174, 0.66991997, 0.39475699, 0.57702169, 0.1184011 ,\n",
       "       0.85248617, 0.98541533, 0.24680945, 0.22569896, 0.36695666,\n",
       "       0.93742478, 0.3292247 , 0.67987329, 0.70952857, 0.09098142,\n",
       "       0.64704299, 0.78634263, 0.82329537, 0.87758854, 0.74722855,\n",
       "       0.63559646, 0.35590677, 0.9038582 , 0.17626453, 0.03559269])"
      ]
     },
     "execution_count": 6,
     "metadata": {},
     "output_type": "execute_result"
    }
   ],
   "source": [
    "np.random.uniform(low=0.0, high=1.0, size=100)"
   ]
  },
  {
   "cell_type": "code",
   "execution_count": null,
   "metadata": {},
   "outputs": [],
   "source": [
    "appts_dict = appointments_binned_df.groupby('ACTUAL_DURATION')['COUNT_OF_APPOINTMENTS'].sum(numeric_only=True).to_dict()\n",
    "\n",
    "# calculate the upper bin\n",
    "upper_bin = max([int(x.split('-')[1][:2]) for x in appts_dict.keys()])\n",
    "\n",
    "\n",
    "lower_bin_edges_count = dict(sorted({int(k.split(\"-\")[0]):v for k,v in  appts_dict.items()}.items(), key=lambda x:x[0]))"
   ]
  },
  {
   "cell_type": "code",
   "execution_count": null,
   "metadata": {},
   "outputs": [],
   "source": [
    "lower_bin_edges_count"
   ]
  },
  {
   "cell_type": "code",
   "execution_count": null,
   "metadata": {},
   "outputs": [],
   "source": []
  },
  {
   "cell_type": "code",
   "execution_count": null,
   "metadata": {},
   "outputs": [],
   "source": [
    "\n",
    "\n",
    "import numpy as np\n",
    "from scipy.stats import binned_statistic\n",
    "\n",
    "# Define your binned data\n",
    "bins_edges = list(lower_bin_edges_count) + [upper_bin]\n",
    "values = list(lower_bin_edges_count.values())\n",
    "\n",
    "# Convert your binned data to numerical values\n",
    "\n",
    "x = np.repeat(bins_edges, np.diff(np.append([0], bins_edges)).cumsum())\n"
   ]
  },
  {
   "cell_type": "code",
   "execution_count": null,
   "metadata": {},
   "outputs": [],
   "source": [
    "len(bins_edges), len(values)"
   ]
  },
  {
   "cell_type": "code",
   "execution_count": null,
   "metadata": {},
   "outputs": [],
   "source": [
    "\n",
    "# Compute the probability distribution function\n",
    "pdf, _, _ = binned_statistic(values, statistic='sum', bins=bins_edges)\n",
    "\n",
    "# Normalize the probability distribution function\n",
    "pdf /= pdf.sum()\n",
    "0\n",
    "print(pdf)\n"
   ]
  }
 ],
 "metadata": {
  "kernelspec": {
   "display_name": ".venv",
   "language": "python",
   "name": "python3"
  },
  "language_info": {
   "codemirror_mode": {
    "name": "ipython",
    "version": 3
   },
   "file_extension": ".py",
   "mimetype": "text/x-python",
   "name": "python",
   "nbconvert_exporter": "python",
   "pygments_lexer": "ipython3",
   "version": "3.10.8"
  }
 },
 "nbformat": 4,
 "nbformat_minor": 2
}
