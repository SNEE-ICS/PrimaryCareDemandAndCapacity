{
 "cells": [
  {
   "cell_type": "markdown",
   "metadata": {},
   "source": [
    "# Referral Rates\n",
    "\n",
    "As a data scientist/analyst, we must have the referral rates by area which we can then use to feed into the D&C model for acute.\n",
    "The referral rate is the number of referrals per appointment per year. We wish to understand the volume of referrals created by the area that stay within the area (ESNEFT and WSFT) and outside the area.\n"
   ]
  },
  {
   "cell_type": "markdown",
   "metadata": {},
   "source": [
    "## Importing libraries"
   ]
  },
  {
   "cell_type": "code",
   "execution_count": 3,
   "metadata": {},
   "outputs": [],
   "source": [
    "# this is a bit of a hack to get relative imports \n",
    "# to work as if these notebooks were in a package\n",
    "# change cwd to project root if 'notebooks' in PATH\n",
    "from os import chdir\n",
    "from pathlib import Path\n",
    "if 'notebooks' in str(Path.cwd()):\n",
    "    chdir('..')\n",
    "\n",
    "# std library\n",
    "import yaml\n",
    "\n",
    "#stats/arrays\n",
    "import pandas as pd\n",
    "import matplotlib.pyplot as plt\n",
    "\n",
    "# project imports from src\n",
    "from src.schemas import DataCatalog\n",
    "from src.various_methods import PlotCounter\n",
    "import plotly.graph_objects as go"
   ]
  },
  {
   "cell_type": "markdown",
   "metadata": {},
   "source": [
    "## Loading  Data from Data Catalog"
   ]
  },
  {
   "cell_type": "code",
   "execution_count": 4,
   "metadata": {},
   "outputs": [],
   "source": [
    "# load data catalog\n",
    "data_catalog = DataCatalog.load_from_yaml(\"data_catalog.yaml\")\n",
    "# keeps track of plot numbers\n",
    "plot_counter = PlotCounter(name=\"referral_rate\") "
   ]
  },
  {
   "cell_type": "markdown",
   "metadata": {},
   "source": [
    "### Loading the Referrals dataframe from 2022-23"
   ]
  },
  {
   "cell_type": "code",
   "execution_count": 5,
   "metadata": {},
   "outputs": [
    {
     "name": "stdout",
     "output_type": "stream",
     "text": [
      "['Annual CSV 2022-23 including revisions Oct 22- Feb 23 final 1.csv']\n",
      "(97108, 16)\n"
     ]
    }
   ],
   "source": [
    "# Loading the Referrals dataframe from 2022\n",
    "referral_data_catalog_entry_22 = data_catalog.single_data_sources[2]\n",
    "outpatient_referrals_22 = referral_data_catalog_entry_22.load()\n",
    "print(referral_data_catalog_entry_22.zip_file.namelist())\n",
    "print(outpatient_referrals_22.shape)\n",
    "\n",
    "# Removing unnecessary columns\n",
    "outpatient_referrals_22 = outpatient_referrals_22.drop(columns=['Unnamed: 13' , 'Unnamed: 14', 'Unnamed: 15'])"
   ]
  },
  {
   "cell_type": "code",
   "execution_count": 6,
   "metadata": {},
   "outputs": [
    {
     "name": "stdout",
     "output_type": "stream",
     "text": [
      "['Annual CSV 2023-24 Published October 2023 HJYTR.csv']\n",
      "(42436, 13)\n"
     ]
    }
   ],
   "source": [
    "# Loading the Referrals dataframe from 2023\n",
    "referral_data_catalog_entry_23 = data_catalog.single_data_sources[1]\n",
    "outpatient_referrals_23 = referral_data_catalog_entry_23.load()\n",
    "print(referral_data_catalog_entry_23.zip_file.namelist())\n",
    "print(outpatient_referrals_23.shape)"
   ]
  },
  {
   "cell_type": "code",
   "execution_count": 7,
   "metadata": {},
   "outputs": [
    {
     "name": "stdout",
     "output_type": "stream",
     "text": [
      "(139544, 13)\n",
      "(99577, 13)\n"
     ]
    }
   ],
   "source": [
    "# Merging both the dataframes\n",
    "referrals_df = pd.concat([outpatient_referrals_22, outpatient_referrals_23], ignore_index=True)\n",
    "print(referrals_df.shape)\n",
    "\n",
    "# Taking record from September/2022 to August/2023\n",
    "required_time = ['MRR-September-2022', 'MRR-October-2022','MRR-November-2022', 'MRR-December-2022', 'MRR-January-2023',\n",
    "       'MRR-February-2023', 'MRR-March-2023', 'MRR-April-2023','MRR-May-2023', 'MRR-June-2023', 'MRR-July-2023','MRR-August-2023']\n",
    "\n",
    "referrals_df = referrals_df[referrals_df['Periodname'].isin(required_time)].reset_index().drop(columns=['index'])\n",
    "print(referrals_df.shape)\n"
   ]
  },
  {
   "cell_type": "code",
   "execution_count": 8,
   "metadata": {},
   "outputs": [
    {
     "data": {
      "text/html": [
       "<div>\n",
       "<style scoped>\n",
       "    .dataframe tbody tr th:only-of-type {\n",
       "        vertical-align: middle;\n",
       "    }\n",
       "\n",
       "    .dataframe tbody tr th {\n",
       "        vertical-align: top;\n",
       "    }\n",
       "\n",
       "    .dataframe thead th {\n",
       "        text-align: right;\n",
       "    }\n",
       "</style>\n",
       "<table border=\"1\" class=\"dataframe\">\n",
       "  <thead>\n",
       "    <tr style=\"text-align: right;\">\n",
       "      <th></th>\n",
       "      <th>Periodname</th>\n",
       "      <th>Provider Parent org code</th>\n",
       "      <th>Provider Parent name</th>\n",
       "      <th>Provider Org code</th>\n",
       "      <th>Provider Org name</th>\n",
       "      <th>Commissioner Parent Org Code</th>\n",
       "      <th>Commissioner Parent Org Name</th>\n",
       "      <th>Commissioner Org Code</th>\n",
       "      <th>Commissioner Org Name</th>\n",
       "      <th>Op Gprefsmade M</th>\n",
       "      <th>Op Otherrefsmade M</th>\n",
       "      <th>Op Gprefsmade Ga M</th>\n",
       "      <th>Op Otherrefsmade Ga M</th>\n",
       "    </tr>\n",
       "  </thead>\n",
       "  <tbody>\n",
       "    <tr>\n",
       "      <th>0</th>\n",
       "      <td>MRR-September-2022</td>\n",
       "      <td>NaN</td>\n",
       "      <td>NaN</td>\n",
       "      <td>7A1</td>\n",
       "      <td>BETSI CADWALADR UNIVERSITY LHB</td>\n",
       "      <td>QYG</td>\n",
       "      <td>NHS CHESHIRE AND MERSEYSIDE INTEGRATED CARE BOARD</td>\n",
       "      <td>02E</td>\n",
       "      <td>NHS WARRINGTON (SUB ICB LOCATION)</td>\n",
       "      <td>1</td>\n",
       "      <td>0</td>\n",
       "      <td>1</td>\n",
       "      <td>0</td>\n",
       "    </tr>\n",
       "    <tr>\n",
       "      <th>1</th>\n",
       "      <td>MRR-September-2022</td>\n",
       "      <td>NaN</td>\n",
       "      <td>NaN</td>\n",
       "      <td>7A1</td>\n",
       "      <td>BETSI CADWALADR UNIVERSITY LHB</td>\n",
       "      <td>QYG</td>\n",
       "      <td>NHS CHESHIRE AND MERSEYSIDE INTEGRATED CARE BOARD</td>\n",
       "      <td>12F</td>\n",
       "      <td>NHS WIRRAL (SUB ICB LOCATION)</td>\n",
       "      <td>1</td>\n",
       "      <td>0</td>\n",
       "      <td>1</td>\n",
       "      <td>0</td>\n",
       "    </tr>\n",
       "    <tr>\n",
       "      <th>2</th>\n",
       "      <td>MRR-September-2022</td>\n",
       "      <td>NaN</td>\n",
       "      <td>NaN</td>\n",
       "      <td>7A1</td>\n",
       "      <td>BETSI CADWALADR UNIVERSITY LHB</td>\n",
       "      <td>QYG</td>\n",
       "      <td>NHS CHESHIRE AND MERSEYSIDE INTEGRATED CARE BOARD</td>\n",
       "      <td>27D</td>\n",
       "      <td>NHS CHESHIRE (SUB ICB LOCATION)</td>\n",
       "      <td>5</td>\n",
       "      <td>0</td>\n",
       "      <td>5</td>\n",
       "      <td>0</td>\n",
       "    </tr>\n",
       "    <tr>\n",
       "      <th>3</th>\n",
       "      <td>MRR-September-2022</td>\n",
       "      <td>QE1</td>\n",
       "      <td>NHS LANCASHIRE AND SOUTH CUMBRIA INTEGRATED CA...</td>\n",
       "      <td>A4M8P</td>\n",
       "      <td>BUCKSHAW HOSPITAL</td>\n",
       "      <td>QHM</td>\n",
       "      <td>NHS NORTH EAST AND NORTH CUMBRIA INTEGRATED CA...</td>\n",
       "      <td>00L</td>\n",
       "      <td>NHS NORTHUMBERLAND (SUB ICB LOCATION)</td>\n",
       "      <td>25</td>\n",
       "      <td>0</td>\n",
       "      <td>25</td>\n",
       "      <td>0</td>\n",
       "    </tr>\n",
       "    <tr>\n",
       "      <th>4</th>\n",
       "      <td>MRR-September-2022</td>\n",
       "      <td>QE1</td>\n",
       "      <td>NHS LANCASHIRE AND SOUTH CUMBRIA INTEGRATED CA...</td>\n",
       "      <td>A4M8P</td>\n",
       "      <td>BUCKSHAW HOSPITAL</td>\n",
       "      <td>QHM</td>\n",
       "      <td>NHS NORTH EAST AND NORTH CUMBRIA INTEGRATED CA...</td>\n",
       "      <td>00N</td>\n",
       "      <td>NHS SOUTH TYNESIDE (SUB ICB LOCATION)</td>\n",
       "      <td>10</td>\n",
       "      <td>0</td>\n",
       "      <td>10</td>\n",
       "      <td>0</td>\n",
       "    </tr>\n",
       "  </tbody>\n",
       "</table>\n",
       "</div>"
      ],
      "text/plain": [
       "           Periodname Provider Parent org code  \\\n",
       "0  MRR-September-2022                      NaN   \n",
       "1  MRR-September-2022                      NaN   \n",
       "2  MRR-September-2022                      NaN   \n",
       "3  MRR-September-2022                      QE1   \n",
       "4  MRR-September-2022                      QE1   \n",
       "\n",
       "                                Provider Parent name Provider Org code  \\\n",
       "0                                                NaN               7A1   \n",
       "1                                                NaN               7A1   \n",
       "2                                                NaN               7A1   \n",
       "3  NHS LANCASHIRE AND SOUTH CUMBRIA INTEGRATED CA...             A4M8P   \n",
       "4  NHS LANCASHIRE AND SOUTH CUMBRIA INTEGRATED CA...             A4M8P   \n",
       "\n",
       "                Provider Org name Commissioner Parent Org Code  \\\n",
       "0  BETSI CADWALADR UNIVERSITY LHB                          QYG   \n",
       "1  BETSI CADWALADR UNIVERSITY LHB                          QYG   \n",
       "2  BETSI CADWALADR UNIVERSITY LHB                          QYG   \n",
       "3               BUCKSHAW HOSPITAL                          QHM   \n",
       "4               BUCKSHAW HOSPITAL                          QHM   \n",
       "\n",
       "                        Commissioner Parent Org Name Commissioner Org Code  \\\n",
       "0  NHS CHESHIRE AND MERSEYSIDE INTEGRATED CARE BOARD                   02E   \n",
       "1  NHS CHESHIRE AND MERSEYSIDE INTEGRATED CARE BOARD                   12F   \n",
       "2  NHS CHESHIRE AND MERSEYSIDE INTEGRATED CARE BOARD                   27D   \n",
       "3  NHS NORTH EAST AND NORTH CUMBRIA INTEGRATED CA...                   00L   \n",
       "4  NHS NORTH EAST AND NORTH CUMBRIA INTEGRATED CA...                   00N   \n",
       "\n",
       "                   Commissioner Org Name  Op Gprefsmade M  Op Otherrefsmade M  \\\n",
       "0      NHS WARRINGTON (SUB ICB LOCATION)                1                   0   \n",
       "1          NHS WIRRAL (SUB ICB LOCATION)                1                   0   \n",
       "2        NHS CHESHIRE (SUB ICB LOCATION)                5                   0   \n",
       "3  NHS NORTHUMBERLAND (SUB ICB LOCATION)               25                   0   \n",
       "4  NHS SOUTH TYNESIDE (SUB ICB LOCATION)               10                   0   \n",
       "\n",
       "   Op Gprefsmade Ga M  Op Otherrefsmade Ga M  \n",
       "0                   1                      0  \n",
       "1                   1                      0  \n",
       "2                   5                      0  \n",
       "3                  25                      0  \n",
       "4                  10                      0  "
      ]
     },
     "execution_count": 8,
     "metadata": {},
     "output_type": "execute_result"
    }
   ],
   "source": [
    "referrals_df.head()"
   ]
  },
  {
   "cell_type": "code",
   "execution_count": 9,
   "metadata": {},
   "outputs": [],
   "source": [
    "# Getting the Provider parent org code for SNEE\n",
    "drow = referrals_df[referrals_df['Provider Parent name'] == 'NHS SUFFOLK AND NORTH EAST ESSEX INTEGRATED CARE BOARD']\n",
    "#print(drow['Provider Parent org code'])"
   ]
  },
  {
   "cell_type": "code",
   "execution_count": 10,
   "metadata": {},
   "outputs": [],
   "source": [
    "# Only taking required columns and dropping the rest\n",
    "needed_cols = ['Commissioner Org Code','Op Gprefsmade M','Op Otherrefsmade M']\n",
    "referrals_df_1 = referrals_df[needed_cols].copy()\n",
    "\n",
    "# Keeping provider records for SNEE-ICB and dropping rest\n",
    "#snee_code = ['QJG']\n",
    "#snee_referrals = referrals_df[referrals_df['Provider Parent org code'].isin(snee_code)].reset_index().drop(columns=['index'])\n",
    "\n",
    "# Replacing the code with SNEE-ICB\n",
    "#snee_referrals['Provider Parent org code'] = snee_referrals['Provider Parent org code'].map({'QJG' : 'SNEE-ICB'})\n",
    "\n",
    "\n",
    "# Keeping commmissioned records for SNEE-sub-icb and dropping rest\n",
    "sub_icb_code = ['06L','07K','06T']\n",
    "snee_referrals = referrals_df_1[referrals_df_1['Commissioner Org Code'].isin(sub_icb_code)].reset_index().drop(columns=['index'])"
   ]
  },
  {
   "cell_type": "code",
   "execution_count": 11,
   "metadata": {},
   "outputs": [
    {
     "data": {
      "text/html": [
       "<div>\n",
       "<style scoped>\n",
       "    .dataframe tbody tr th:only-of-type {\n",
       "        vertical-align: middle;\n",
       "    }\n",
       "\n",
       "    .dataframe tbody tr th {\n",
       "        vertical-align: top;\n",
       "    }\n",
       "\n",
       "    .dataframe thead th {\n",
       "        text-align: right;\n",
       "    }\n",
       "</style>\n",
       "<table border=\"1\" class=\"dataframe\">\n",
       "  <thead>\n",
       "    <tr style=\"text-align: right;\">\n",
       "      <th></th>\n",
       "      <th>GP_Ref</th>\n",
       "      <th>Others_ref</th>\n",
       "    </tr>\n",
       "    <tr>\n",
       "      <th>Commissioner Org Code</th>\n",
       "      <th></th>\n",
       "      <th></th>\n",
       "    </tr>\n",
       "  </thead>\n",
       "  <tbody>\n",
       "    <tr>\n",
       "      <th>06L</th>\n",
       "      <td>77040</td>\n",
       "      <td>71175</td>\n",
       "    </tr>\n",
       "    <tr>\n",
       "      <th>06T</th>\n",
       "      <td>41337</td>\n",
       "      <td>40122</td>\n",
       "    </tr>\n",
       "    <tr>\n",
       "      <th>07K</th>\n",
       "      <td>50852</td>\n",
       "      <td>49227</td>\n",
       "    </tr>\n",
       "  </tbody>\n",
       "</table>\n",
       "</div>"
      ],
      "text/plain": [
       "                       GP_Ref  Others_ref\n",
       "Commissioner Org Code                    \n",
       "06L                     77040       71175\n",
       "06T                     41337       40122\n",
       "07K                     50852       49227"
      ]
     },
     "execution_count": 11,
     "metadata": {},
     "output_type": "execute_result"
    }
   ],
   "source": [
    "snee_referrals_groupby = snee_referrals.rename(columns={'Op Gprefsmade M':'GP_Ref', 'Op Otherrefsmade M':'Others_ref'}).groupby(['Commissioner Org Code']).sum()\n",
    "snee_referrals_groupby"
   ]
  },
  {
   "cell_type": "markdown",
   "metadata": {},
   "source": [
    "### Loading the Appointments Dataframe"
   ]
  },
  {
   "cell_type": "code",
   "execution_count": 12,
   "metadata": {},
   "outputs": [
    {
     "name": "stdout",
     "output_type": "stream",
     "text": [
      "['Regional_CSV_WYorks.csv', 'Regional_CSV_Sussex.csv', 'Regional_CSV_SurreyHearts.csv', 'Regional_CSV_SuffolkNEEssex.csv', 'Regional_CSV_StaffsStoke.csv', 'Regional_CSV_Somerset.csv', 'Regional_CSV_ShropsTelfordWrekin.csv', 'Regional_CSV_SYorks.csv', 'Regional_CSV_SWLondon.csv', 'Regional_CSV_SELondon.csv', 'Regional_CSV_NottinghamNotts.csv', 'Regional_CSV_Northamptonshire.csv', 'Regional_CSV_NorfolkWaveney.csv', 'Regional_CSV_NWLondon.csv', 'Regional_CSV_NENCumbria.csv', 'Regional_CSV_NELondon.csv', 'Regional_CSV_NCLondon.csv', 'Regional_CSV_MidSEssex.csv', 'Regional_CSV_Lincolnshire.csv', 'Regional_CSV_LeicesterLshire.csv', 'Regional_CSV_LancsSCumbria.csv', 'Regional_CSV_KentMedway.csv', 'Regional_CSV_HumberNYorks.csv', 'Regional_CSV_HertfordshireWEssex.csv', 'Regional_CSV_HereWorcs.csv', 'Regional_CSV_HampshireIoW.csv', 'Regional_CSV_Gloucestershire.csv', 'Regional_CSV_GManchesterHSCP.csv', 'Regional_CSV_FrimleyHealth.csv', 'Regional_CSV_Dorset.csv', 'Regional_CSV_Devon.csv', 'Regional_CSV_DerbyDerbyshire.csv', 'Regional_CSV_CoventryWarwickshire.csv', 'Regional_CSV_CornwallIoS.csv', 'Regional_CSV_CheshireMerseyside.csv', 'Regional_CSV_CambsPeterborough.csv', 'Regional_CSV_BucksOxonBerksW.csv', 'Regional_CSV_BristolNSomSGloucs.csv', 'Regional_CSV_BlackCountry.csv', 'Regional_CSV_BirminghamSolihull.csv', 'Regional_CSV_BedsLutonMK.csv', 'Regional_CSV_BathNESomSwindonWilts.csv']\n"
     ]
    },
    {
     "data": {
      "text/html": [
       "<div>\n",
       "<style scoped>\n",
       "    .dataframe tbody tr th:only-of-type {\n",
       "        vertical-align: middle;\n",
       "    }\n",
       "\n",
       "    .dataframe tbody tr th {\n",
       "        vertical-align: top;\n",
       "    }\n",
       "\n",
       "    .dataframe thead th {\n",
       "        text-align: right;\n",
       "    }\n",
       "</style>\n",
       "<table border=\"1\" class=\"dataframe\">\n",
       "  <thead>\n",
       "    <tr style=\"text-align: right;\">\n",
       "      <th></th>\n",
       "      <th>SUB_ICB_LOCATION_CODE</th>\n",
       "      <th>SUB_ICB_LOCATION_ONS_CODE</th>\n",
       "      <th>SUB_ICB_LOCATION_NAME</th>\n",
       "      <th>ICB_ONS_CODE</th>\n",
       "      <th>ICB_NAME</th>\n",
       "      <th>REGION_ONS_CODE</th>\n",
       "      <th>REGION_NAME</th>\n",
       "      <th>APPOINTMENT_MONTH</th>\n",
       "      <th>APPT_STATUS</th>\n",
       "      <th>HCP_TYPE</th>\n",
       "      <th>APPT_MODE</th>\n",
       "      <th>TIME_BETWEEN_BOOK_AND_APPT</th>\n",
       "      <th>COUNT_OF_APPOINTMENTS</th>\n",
       "    </tr>\n",
       "  </thead>\n",
       "  <tbody>\n",
       "    <tr>\n",
       "      <th>0</th>\n",
       "      <td>02T</td>\n",
       "      <td>E38000025</td>\n",
       "      <td>NHS West Yorkshire ICB - 02T</td>\n",
       "      <td>E54000054</td>\n",
       "      <td>NHS West Yorkshire Integrated Care Board</td>\n",
       "      <td>E40000012</td>\n",
       "      <td>North East and Yorkshire</td>\n",
       "      <td>MAR2021</td>\n",
       "      <td>Attended</td>\n",
       "      <td>GP</td>\n",
       "      <td>Face-to-Face</td>\n",
       "      <td>1 Day</td>\n",
       "      <td>1999</td>\n",
       "    </tr>\n",
       "    <tr>\n",
       "      <th>1</th>\n",
       "      <td>02T</td>\n",
       "      <td>E38000025</td>\n",
       "      <td>NHS West Yorkshire ICB - 02T</td>\n",
       "      <td>E54000054</td>\n",
       "      <td>NHS West Yorkshire Integrated Care Board</td>\n",
       "      <td>E40000012</td>\n",
       "      <td>North East and Yorkshire</td>\n",
       "      <td>MAR2021</td>\n",
       "      <td>Attended</td>\n",
       "      <td>GP</td>\n",
       "      <td>Face-to-Face</td>\n",
       "      <td>15  to 21 Days</td>\n",
       "      <td>329</td>\n",
       "    </tr>\n",
       "    <tr>\n",
       "      <th>2</th>\n",
       "      <td>02T</td>\n",
       "      <td>E38000025</td>\n",
       "      <td>NHS West Yorkshire ICB - 02T</td>\n",
       "      <td>E54000054</td>\n",
       "      <td>NHS West Yorkshire Integrated Care Board</td>\n",
       "      <td>E40000012</td>\n",
       "      <td>North East and Yorkshire</td>\n",
       "      <td>MAR2021</td>\n",
       "      <td>Attended</td>\n",
       "      <td>GP</td>\n",
       "      <td>Face-to-Face</td>\n",
       "      <td>2 to 7 Days</td>\n",
       "      <td>4194</td>\n",
       "    </tr>\n",
       "    <tr>\n",
       "      <th>3</th>\n",
       "      <td>02T</td>\n",
       "      <td>E38000025</td>\n",
       "      <td>NHS West Yorkshire ICB - 02T</td>\n",
       "      <td>E54000054</td>\n",
       "      <td>NHS West Yorkshire Integrated Care Board</td>\n",
       "      <td>E40000012</td>\n",
       "      <td>North East and Yorkshire</td>\n",
       "      <td>MAR2021</td>\n",
       "      <td>Attended</td>\n",
       "      <td>GP</td>\n",
       "      <td>Face-to-Face</td>\n",
       "      <td>22  to 28 Days</td>\n",
       "      <td>212</td>\n",
       "    </tr>\n",
       "    <tr>\n",
       "      <th>4</th>\n",
       "      <td>02T</td>\n",
       "      <td>E38000025</td>\n",
       "      <td>NHS West Yorkshire ICB - 02T</td>\n",
       "      <td>E54000054</td>\n",
       "      <td>NHS West Yorkshire Integrated Care Board</td>\n",
       "      <td>E40000012</td>\n",
       "      <td>North East and Yorkshire</td>\n",
       "      <td>MAR2021</td>\n",
       "      <td>Attended</td>\n",
       "      <td>GP</td>\n",
       "      <td>Face-to-Face</td>\n",
       "      <td>8  to 14 Days</td>\n",
       "      <td>1101</td>\n",
       "    </tr>\n",
       "  </tbody>\n",
       "</table>\n",
       "</div>"
      ],
      "text/plain": [
       "  SUB_ICB_LOCATION_CODE SUB_ICB_LOCATION_ONS_CODE  \\\n",
       "0                   02T                 E38000025   \n",
       "1                   02T                 E38000025   \n",
       "2                   02T                 E38000025   \n",
       "3                   02T                 E38000025   \n",
       "4                   02T                 E38000025   \n",
       "\n",
       "          SUB_ICB_LOCATION_NAME ICB_ONS_CODE  \\\n",
       "0  NHS West Yorkshire ICB - 02T    E54000054   \n",
       "1  NHS West Yorkshire ICB - 02T    E54000054   \n",
       "2  NHS West Yorkshire ICB - 02T    E54000054   \n",
       "3  NHS West Yorkshire ICB - 02T    E54000054   \n",
       "4  NHS West Yorkshire ICB - 02T    E54000054   \n",
       "\n",
       "                                   ICB_NAME REGION_ONS_CODE  \\\n",
       "0  NHS West Yorkshire Integrated Care Board       E40000012   \n",
       "1  NHS West Yorkshire Integrated Care Board       E40000012   \n",
       "2  NHS West Yorkshire Integrated Care Board       E40000012   \n",
       "3  NHS West Yorkshire Integrated Care Board       E40000012   \n",
       "4  NHS West Yorkshire Integrated Care Board       E40000012   \n",
       "\n",
       "                REGION_NAME APPOINTMENT_MONTH APPT_STATUS HCP_TYPE  \\\n",
       "0  North East and Yorkshire           MAR2021    Attended       GP   \n",
       "1  North East and Yorkshire           MAR2021    Attended       GP   \n",
       "2  North East and Yorkshire           MAR2021    Attended       GP   \n",
       "3  North East and Yorkshire           MAR2021    Attended       GP   \n",
       "4  North East and Yorkshire           MAR2021    Attended       GP   \n",
       "\n",
       "      APPT_MODE TIME_BETWEEN_BOOK_AND_APPT  COUNT_OF_APPOINTMENTS  \n",
       "0  Face-to-Face                      1 Day                   1999  \n",
       "1  Face-to-Face             15  to 21 Days                    329  \n",
       "2  Face-to-Face                2 to 7 Days                   4194  \n",
       "3  Face-to-Face             22  to 28 Days                    212  \n",
       "4  Face-to-Face              8  to 14 Days                   1101  "
      ]
     },
     "execution_count": 12,
     "metadata": {},
     "output_type": "execute_result"
    }
   ],
   "source": [
    "gp_appts_catalog_entry = data_catalog.single_data_sources[0]\n",
    "gp_appts_df = gp_appts_catalog_entry.load()\n",
    "print(gp_appts_catalog_entry.zip_file.namelist())\n",
    "\n",
    "#Combining data for all the ICB's\n",
    "dfs = []\n",
    "for ccg_name in gp_appts_catalog_entry.zip_file.namelist():\n",
    "    gp_appts_catalog_entry.csv_file = ccg_name\n",
    "    dfs.append(gp_appts_catalog_entry.load())\n",
    "\n",
    "combined_df = pd.concat(dfs, axis=0)\n",
    "combined_df.head()"
   ]
  },
  {
   "cell_type": "code",
   "execution_count": null,
   "metadata": {},
   "outputs": [],
   "source": [
    "# Taking record from September/2022 to August/2023\n",
    "required_months = ['SEP2022', 'OCT2022', 'NOV2022', 'DEC2022', 'JAN2023', 'FEB2023','MAR2023', 'APR2023', 'MAY2023', 'JUN2023', 'JUL2023', 'AUG2023']\n",
    "filtered_appointments_df = combined_df[combined_df['APPOINTMENT_MONTH'].isin(required_months)]\n",
    "\n",
    "\n",
    "# Merging HCP-TYPE= 'Unknown' into 'Other'\n",
    "filtered_appointments_df['HCP_TYPE'] = filtered_appointments_df['HCP_TYPE'].replace({'Unknown':'Other Practice staff'})\n",
    "\n",
    "\n",
    "# Filtering for SNEE-sub-ICB and appointment status\n",
    "snee_appointments = filtered_appointments_df[(filtered_appointments_df['SUB_ICB_LOCATION_CODE'].isin(sub_icb_code)) & \n",
    "                                                (filtered_appointments_df['APPT_STATUS']=='Attended')]\n",
    "\n",
    "\n",
    "# Only taking required columns and dropping the rest\n",
    "required_cols = ['SUB_ICB_LOCATION_CODE','HCP_TYPE','COUNT_OF_APPOINTMENTS']\n",
    "snee_appointments = snee_appointments[required_cols].copy().reset_index().drop(columns={'index'})"
   ]
  },
  {
   "cell_type": "code",
   "execution_count": 14,
   "metadata": {},
   "outputs": [
    {
     "data": {
      "text/html": [
       "<div>\n",
       "<style scoped>\n",
       "    .dataframe tbody tr th:only-of-type {\n",
       "        vertical-align: middle;\n",
       "    }\n",
       "\n",
       "    .dataframe tbody tr th {\n",
       "        vertical-align: top;\n",
       "    }\n",
       "\n",
       "    .dataframe thead th {\n",
       "        text-align: right;\n",
       "    }\n",
       "</style>\n",
       "<table border=\"1\" class=\"dataframe\">\n",
       "  <thead>\n",
       "    <tr style=\"text-align: right;\">\n",
       "      <th></th>\n",
       "      <th>COUNT_OF_APPOINTMENTS_GP</th>\n",
       "      <th>COUNT_OF_APPOINTMENTS_Other Practice staff</th>\n",
       "    </tr>\n",
       "    <tr>\n",
       "      <th>SUB_ICB_LOCATION_CODE</th>\n",
       "      <th></th>\n",
       "      <th></th>\n",
       "    </tr>\n",
       "  </thead>\n",
       "  <tbody>\n",
       "    <tr>\n",
       "      <th>06L</th>\n",
       "      <td>793123</td>\n",
       "      <td>1405561</td>\n",
       "    </tr>\n",
       "    <tr>\n",
       "      <th>06T</th>\n",
       "      <td>705730</td>\n",
       "      <td>1245537</td>\n",
       "    </tr>\n",
       "    <tr>\n",
       "      <th>07K</th>\n",
       "      <td>749129</td>\n",
       "      <td>764856</td>\n",
       "    </tr>\n",
       "  </tbody>\n",
       "</table>\n",
       "</div>"
      ],
      "text/plain": [
       "                       COUNT_OF_APPOINTMENTS_GP  \\\n",
       "SUB_ICB_LOCATION_CODE                             \n",
       "06L                                      793123   \n",
       "06T                                      705730   \n",
       "07K                                      749129   \n",
       "\n",
       "                       COUNT_OF_APPOINTMENTS_Other Practice staff  \n",
       "SUB_ICB_LOCATION_CODE                                              \n",
       "06L                                                       1405561  \n",
       "06T                                                       1245537  \n",
       "07K                                                        764856  "
      ]
     },
     "execution_count": 14,
     "metadata": {},
     "output_type": "execute_result"
    }
   ],
   "source": [
    "# Making a Pivot table for better presentation of data\n",
    "snee_appointments_pivot = snee_appointments.pivot_table(index=['SUB_ICB_LOCATION_CODE'], columns=['HCP_TYPE'], values=['COUNT_OF_APPOINTMENTS'], aggfunc='sum')\n",
    "snee_appointments_pivot.columns = ['_'.join(col) for col in snee_appointments_pivot.columns]\n",
    "snee_appointments_pivot"
   ]
  },
  {
   "cell_type": "markdown",
   "metadata": {},
   "source": [
    "## 1- Calculating the Referral rate for SNEE-SUB-ICB'S"
   ]
  },
  {
   "cell_type": "code",
   "execution_count": 15,
   "metadata": {},
   "outputs": [
    {
     "data": {
      "text/html": [
       "<div>\n",
       "<style scoped>\n",
       "    .dataframe tbody tr th:only-of-type {\n",
       "        vertical-align: middle;\n",
       "    }\n",
       "\n",
       "    .dataframe tbody tr th {\n",
       "        vertical-align: top;\n",
       "    }\n",
       "\n",
       "    .dataframe thead th {\n",
       "        text-align: right;\n",
       "    }\n",
       "</style>\n",
       "<table border=\"1\" class=\"dataframe\">\n",
       "  <thead>\n",
       "    <tr style=\"text-align: right;\">\n",
       "      <th></th>\n",
       "      <th>GP_Ref_rate</th>\n",
       "      <th>Others_Ref_rate</th>\n",
       "    </tr>\n",
       "    <tr>\n",
       "      <th>Sub_ICB_Code</th>\n",
       "      <th></th>\n",
       "      <th></th>\n",
       "    </tr>\n",
       "  </thead>\n",
       "  <tbody>\n",
       "    <tr>\n",
       "      <th>06L</th>\n",
       "      <td>0.097135</td>\n",
       "      <td>0.050638</td>\n",
       "    </tr>\n",
       "    <tr>\n",
       "      <th>06T</th>\n",
       "      <td>0.058573</td>\n",
       "      <td>0.032213</td>\n",
       "    </tr>\n",
       "    <tr>\n",
       "      <th>07K</th>\n",
       "      <td>0.067881</td>\n",
       "      <td>0.064361</td>\n",
       "    </tr>\n",
       "  </tbody>\n",
       "</table>\n",
       "</div>"
      ],
      "text/plain": [
       "              GP_Ref_rate  Others_Ref_rate\n",
       "Sub_ICB_Code                              \n",
       "06L              0.097135         0.050638\n",
       "06T              0.058573         0.032213\n",
       "07K              0.067881         0.064361"
      ]
     },
     "execution_count": 15,
     "metadata": {},
     "output_type": "execute_result"
    }
   ],
   "source": [
    "# Making the index names similar for both dataframes for easier manipulation\n",
    "snee_appointments_pivot.index.name = 'Sub_ICB_Code'\n",
    "snee_referrals_groupby.index.name = 'Sub_ICB_Code'\n",
    "\n",
    "# Making the columns names similar for division\n",
    "snee_appointments_pivot = snee_appointments_pivot.rename(columns={'COUNT_OF_APPOINTMENTS_GP':'GP_Ref', 'COUNT_OF_APPOINTMENTS_Other Practice staff':'Others_ref'})\n",
    "\n",
    "snee_sub_icb_referral_rate = (snee_referrals_groupby/snee_appointments_pivot).rename(columns={'GP_Ref':'GP_Ref_rate', 'Others_ref': 'Others_Ref_rate'})\n",
    "snee_sub_icb_referral_rate"
   ]
  },
  {
   "cell_type": "markdown",
   "metadata": {},
   "source": [
    "## 2- Creating Yaml file containing the referrals rates for each snee-sub-icb's"
   ]
  },
  {
   "cell_type": "code",
   "execution_count": 16,
   "metadata": {},
   "outputs": [
    {
     "data": {
      "text/plain": [
       "{'06L': {'GP_Ref_rate': 0.0971, 'Others_Ref_rate': 0.0506},\n",
       " '06T': {'GP_Ref_rate': 0.0586, 'Others_Ref_rate': 0.0322},\n",
       " '07K': {'GP_Ref_rate': 0.0679, 'Others_Ref_rate': 0.0644}}"
      ]
     },
     "execution_count": 16,
     "metadata": {},
     "output_type": "execute_result"
    }
   ],
   "source": [
    "#Converting to Dictionary\n",
    "referance_rate_dict = snee_sub_icb_referral_rate.round(4).to_dict(orient='index')\n",
    "referance_rate_dict"
   ]
  },
  {
   "cell_type": "code",
   "execution_count": 17,
   "metadata": {},
   "outputs": [],
   "source": [
    "OUTPUT_YAML_FILE = \"outputs/referral_rates.yaml\"\n",
    "\n",
    "#Output to yaml\n",
    "with open(OUTPUT_YAML_FILE, 'w') as yaml_file:\n",
    "    yaml.dump(referance_rate_dict, yaml_file)"
   ]
  },
  {
   "cell_type": "markdown",
   "metadata": {},
   "source": [
    "## 3- Sankey Diagram"
   ]
  },
  {
   "cell_type": "code",
   "execution_count": 123,
   "metadata": {},
   "outputs": [],
   "source": [
    "# Only taking required columns and dropping the rest\n",
    "needed_colss = ['Commissioner Org Code','Provider Parent name','Op Gprefsmade M','Op Otherrefsmade M']\n",
    "referrals_df_2 = referrals_df[needed_colss].copy()\n",
    "\n",
    "# Keeping commmissioned records for SNEE-sub-icb and dropping rest\n",
    "snee_referrals_2 = referrals_df_2[referrals_df_2['Commissioner Org Code'].isin(sub_icb_code)].reset_index().drop(columns=['index'])\n",
    "\n",
    "# Renaming the column name\n",
    "snee_referrals_2 = snee_referrals_2.rename(columns={'Op Gprefsmade M':'GP_Ref', 'Op Otherrefsmade M':'Others_ref'})"
   ]
  },
  {
   "cell_type": "code",
   "execution_count": 124,
   "metadata": {},
   "outputs": [],
   "source": [
    "sankey_gp_df = snee_referrals_2.groupby(['Commissioner Org Code','Provider Parent name'])['GP_Ref'].sum().reset_index()"
   ]
  },
  {
   "cell_type": "code",
   "execution_count": 172,
   "metadata": {},
   "outputs": [
    {
     "data": {
      "application/vnd.plotly.v1+json": {
       "config": {
        "plotlyServerURL": "https://plot.ly"
       },
       "data": [
        {
         "link": {
          "source": [
           0,
           0,
           0,
           0,
           0,
           0,
           0,
           0,
           0,
           0,
           0,
           0,
           0,
           0,
           0,
           0,
           0,
           0,
           0,
           0,
           0,
           0,
           0,
           0,
           0,
           0,
           0,
           0,
           0,
           0,
           0,
           0,
           0,
           0,
           0,
           0,
           0,
           0,
           0,
           0,
           0,
           0,
           1,
           1,
           1,
           1,
           1,
           1,
           1,
           1,
           1,
           1,
           1,
           1,
           1,
           1,
           1,
           1,
           1,
           1,
           1,
           1,
           1,
           1,
           1,
           1,
           1,
           1,
           1,
           1,
           1,
           1,
           1,
           1,
           1,
           1,
           1,
           1,
           1,
           1,
           1,
           1,
           1,
           1,
           2,
           2,
           2,
           2,
           2,
           2,
           2,
           2,
           2,
           2,
           2,
           2,
           2,
           2,
           2,
           2,
           2,
           2,
           2,
           2,
           2,
           2,
           2,
           2,
           2,
           2,
           2,
           2,
           2,
           2,
           2,
           2,
           2,
           2,
           2,
           2,
           2,
           2,
           2,
           2,
           2,
           2
          ],
          "target": [
           3,
           4,
           5,
           6,
           7,
           8,
           9,
           10,
           11,
           12,
           13,
           14,
           15,
           16,
           17,
           18,
           19,
           20,
           21,
           22,
           23,
           24,
           25,
           26,
           27,
           28,
           29,
           30,
           31,
           32,
           33,
           34,
           35,
           36,
           37,
           38,
           39,
           40,
           41,
           42,
           43,
           44,
           3,
           4,
           5,
           6,
           7,
           8,
           9,
           10,
           11,
           12,
           13,
           14,
           15,
           16,
           17,
           18,
           19,
           20,
           21,
           22,
           23,
           24,
           25,
           26,
           27,
           28,
           29,
           30,
           31,
           32,
           33,
           34,
           35,
           36,
           37,
           38,
           39,
           40,
           41,
           42,
           43,
           44,
           3,
           4,
           5,
           6,
           7,
           8,
           9,
           10,
           11,
           12,
           13,
           14,
           15,
           16,
           17,
           18,
           19,
           20,
           21,
           22,
           23,
           24,
           25,
           26,
           27,
           28,
           29,
           30,
           31,
           32,
           33,
           34,
           35,
           36,
           37,
           38,
           39,
           40,
           41,
           42,
           43,
           44
          ],
          "value": [
           2,
           30,
           13,
           0,
           2,
           3870,
           1177,
           0,
           2,
           5,
           2,
           1,
           1,
           5,
           1,
           25,
           1454,
           0,
           17,
           1,
           9,
           0,
           0,
           1,
           62,
           1096,
           158,
           14,
           60,
           69,
           0,
           5,
           2,
           1,
           107,
           16,
           4,
           3,
           68802,
           3,
           17,
           3,
           2,
           122,
           5,
           0,
           0,
           32,
           794,
           1,
           0,
           4,
           3,
           5,
           2,
           2,
           0,
           1,
           52,
           0,
           26,
           5,
           10,
           2,
           1,
           2,
           910,
           27,
           447,
           12,
           170,
           187,
           2,
           2,
           3,
           0,
           89,
           25,
           2,
           0,
           38370,
           9,
           4,
           7,
           6,
           15,
           5,
           0,
           1,
           41,
           6597,
           0,
           0,
           9,
           1,
           1,
           0,
           2,
           0,
           1,
           591,
           0,
           28,
           3,
           3,
           0,
           0,
           1,
           37,
           379,
           82,
           12,
           44,
           43,
           0,
           2,
           8,
           1,
           52,
           18,
           2,
           0,
           42862,
           1,
           2,
           2
          ]
         },
         "node": {
          "color": "#330072",
          "label": [
           "06L",
           "06T",
           "07K",
           "NHS BATH AND NORTH EAST SOMERSET, SWINDON AND WILTSHIRE INTEGRATED CARE BOARD",
           "NHS BEDFORDSHIRE, LUTON AND MILTON KEYNES INTEGRATED CARE BOARD",
           "NHS BIRMINGHAM AND SOLIHULL INTEGRATED CARE BOARD",
           "NHS BLACK COUNTRY INTEGRATED CARE BOARD",
           "NHS BRISTOL, NORTH SOMERSET AND SOUTH GLOUCESTERSHIRE INTEGRATED CARE BOARD",
           "NHS BUCKINGHAMSHIRE, OXFORDSHIRE AND BERKSHIRE WEST INTEGRATED CARE BOARD",
           "NHS CAMBRIDGESHIRE AND PETERBOROUGH INTEGRATED CARE BOARD",
           "NHS CHESHIRE AND MERSEYSIDE INTEGRATED CARE BOARD",
           "NHS CORNWALL AND THE ISLES OF SCILLY INTEGRATED CARE BOARD",
           "NHS COVENTRY AND WARWICKSHIRE INTEGRATED CARE BOARD",
           "NHS DERBY AND DERBYSHIRE INTEGRATED CARE BOARD",
           "NHS DEVON INTEGRATED CARE BOARD",
           "NHS DORSET INTEGRATED CARE BOARD",
           "NHS FRIMLEY INTEGRATED CARE BOARD",
           "NHS GLOUCESTERSHIRE INTEGRATED CARE BOARD",
           "NHS GREATER MANCHESTER INTEGRATED CARE BOARD",
           "NHS HAMPSHIRE AND ISLE OF WIGHT INTEGRATED CARE BOARD",
           "NHS HEREFORDSHIRE AND WORCESTERSHIRE INTEGRATED CARE BOARD",
           "NHS HERTFORDSHIRE AND WEST ESSEX INTEGRATED CARE BOARD",
           "NHS HUMBER AND NORTH YORKSHIRE INTEGRATED CARE BOARD",
           "NHS KENT AND MEDWAY INTEGRATED CARE BOARD",
           "NHS LANCASHIRE AND SOUTH CUMBRIA INTEGRATED CARE BOARD",
           "NHS LEICESTER, LEICESTERSHIRE AND RUTLAND INTEGRATED CARE BOARD",
           "NHS LINCOLNSHIRE INTEGRATED CARE BOARD",
           "NHS MID AND SOUTH ESSEX INTEGRATED CARE BOARD",
           "NHS NORFOLK AND WAVENEY INTEGRATED CARE BOARD",
           "NHS NORTH CENTRAL LONDON INTEGRATED CARE BOARD",
           "NHS NORTH EAST AND NORTH CUMBRIA INTEGRATED CARE BOARD",
           "NHS NORTH EAST LONDON INTEGRATED CARE BOARD",
           "NHS NORTH WEST LONDON INTEGRATED CARE BOARD",
           "NHS NORTHAMPTONSHIRE INTEGRATED CARE BOARD",
           "NHS NOTTINGHAM AND NOTTINGHAMSHIRE INTEGRATED CARE BOARD",
           "NHS SHROPSHIRE, TELFORD AND WREKIN INTEGRATED CARE BOARD",
           "NHS SOMERSET INTEGRATED CARE BOARD",
           "NHS SOUTH EAST LONDON INTEGRATED CARE BOARD",
           "NHS SOUTH WEST LONDON INTEGRATED CARE BOARD",
           "NHS SOUTH YORKSHIRE INTEGRATED CARE BOARD",
           "NHS STAFFORDSHIRE AND STOKE-ON-TRENT INTEGRATED CARE BOARD",
           "NHS SUFFOLK AND NORTH EAST ESSEX INTEGRATED CARE BOARD",
           "NHS SURREY HEARTLANDS INTEGRATED CARE BOARD",
           "NHS SUSSEX INTEGRATED CARE BOARD",
           "NHS WEST YORKSHIRE INTEGRATED CARE BOARD"
          ],
          "line": {
           "color": "#231F20",
           "width": 0.5
          },
          "pad": 15,
          "thickness": 20
         },
         "type": "sankey"
        }
       ],
       "layout": {
        "font": {
         "size": 12
        },
        "height": 1000,
        "template": {
         "data": {
          "bar": [
           {
            "error_x": {
             "color": "#2a3f5f"
            },
            "error_y": {
             "color": "#2a3f5f"
            },
            "marker": {
             "line": {
              "color": "#E5ECF6",
              "width": 0.5
             },
             "pattern": {
              "fillmode": "overlay",
              "size": 10,
              "solidity": 0.2
             }
            },
            "type": "bar"
           }
          ],
          "barpolar": [
           {
            "marker": {
             "line": {
              "color": "#E5ECF6",
              "width": 0.5
             },
             "pattern": {
              "fillmode": "overlay",
              "size": 10,
              "solidity": 0.2
             }
            },
            "type": "barpolar"
           }
          ],
          "carpet": [
           {
            "aaxis": {
             "endlinecolor": "#2a3f5f",
             "gridcolor": "white",
             "linecolor": "white",
             "minorgridcolor": "white",
             "startlinecolor": "#2a3f5f"
            },
            "baxis": {
             "endlinecolor": "#2a3f5f",
             "gridcolor": "white",
             "linecolor": "white",
             "minorgridcolor": "white",
             "startlinecolor": "#2a3f5f"
            },
            "type": "carpet"
           }
          ],
          "choropleth": [
           {
            "colorbar": {
             "outlinewidth": 0,
             "ticks": ""
            },
            "type": "choropleth"
           }
          ],
          "contour": [
           {
            "colorbar": {
             "outlinewidth": 0,
             "ticks": ""
            },
            "colorscale": [
             [
              0,
              "#0d0887"
             ],
             [
              0.1111111111111111,
              "#46039f"
             ],
             [
              0.2222222222222222,
              "#7201a8"
             ],
             [
              0.3333333333333333,
              "#9c179e"
             ],
             [
              0.4444444444444444,
              "#bd3786"
             ],
             [
              0.5555555555555556,
              "#d8576b"
             ],
             [
              0.6666666666666666,
              "#ed7953"
             ],
             [
              0.7777777777777778,
              "#fb9f3a"
             ],
             [
              0.8888888888888888,
              "#fdca26"
             ],
             [
              1,
              "#f0f921"
             ]
            ],
            "type": "contour"
           }
          ],
          "contourcarpet": [
           {
            "colorbar": {
             "outlinewidth": 0,
             "ticks": ""
            },
            "type": "contourcarpet"
           }
          ],
          "heatmap": [
           {
            "colorbar": {
             "outlinewidth": 0,
             "ticks": ""
            },
            "colorscale": [
             [
              0,
              "#0d0887"
             ],
             [
              0.1111111111111111,
              "#46039f"
             ],
             [
              0.2222222222222222,
              "#7201a8"
             ],
             [
              0.3333333333333333,
              "#9c179e"
             ],
             [
              0.4444444444444444,
              "#bd3786"
             ],
             [
              0.5555555555555556,
              "#d8576b"
             ],
             [
              0.6666666666666666,
              "#ed7953"
             ],
             [
              0.7777777777777778,
              "#fb9f3a"
             ],
             [
              0.8888888888888888,
              "#fdca26"
             ],
             [
              1,
              "#f0f921"
             ]
            ],
            "type": "heatmap"
           }
          ],
          "heatmapgl": [
           {
            "colorbar": {
             "outlinewidth": 0,
             "ticks": ""
            },
            "colorscale": [
             [
              0,
              "#0d0887"
             ],
             [
              0.1111111111111111,
              "#46039f"
             ],
             [
              0.2222222222222222,
              "#7201a8"
             ],
             [
              0.3333333333333333,
              "#9c179e"
             ],
             [
              0.4444444444444444,
              "#bd3786"
             ],
             [
              0.5555555555555556,
              "#d8576b"
             ],
             [
              0.6666666666666666,
              "#ed7953"
             ],
             [
              0.7777777777777778,
              "#fb9f3a"
             ],
             [
              0.8888888888888888,
              "#fdca26"
             ],
             [
              1,
              "#f0f921"
             ]
            ],
            "type": "heatmapgl"
           }
          ],
          "histogram": [
           {
            "marker": {
             "pattern": {
              "fillmode": "overlay",
              "size": 10,
              "solidity": 0.2
             }
            },
            "type": "histogram"
           }
          ],
          "histogram2d": [
           {
            "colorbar": {
             "outlinewidth": 0,
             "ticks": ""
            },
            "colorscale": [
             [
              0,
              "#0d0887"
             ],
             [
              0.1111111111111111,
              "#46039f"
             ],
             [
              0.2222222222222222,
              "#7201a8"
             ],
             [
              0.3333333333333333,
              "#9c179e"
             ],
             [
              0.4444444444444444,
              "#bd3786"
             ],
             [
              0.5555555555555556,
              "#d8576b"
             ],
             [
              0.6666666666666666,
              "#ed7953"
             ],
             [
              0.7777777777777778,
              "#fb9f3a"
             ],
             [
              0.8888888888888888,
              "#fdca26"
             ],
             [
              1,
              "#f0f921"
             ]
            ],
            "type": "histogram2d"
           }
          ],
          "histogram2dcontour": [
           {
            "colorbar": {
             "outlinewidth": 0,
             "ticks": ""
            },
            "colorscale": [
             [
              0,
              "#0d0887"
             ],
             [
              0.1111111111111111,
              "#46039f"
             ],
             [
              0.2222222222222222,
              "#7201a8"
             ],
             [
              0.3333333333333333,
              "#9c179e"
             ],
             [
              0.4444444444444444,
              "#bd3786"
             ],
             [
              0.5555555555555556,
              "#d8576b"
             ],
             [
              0.6666666666666666,
              "#ed7953"
             ],
             [
              0.7777777777777778,
              "#fb9f3a"
             ],
             [
              0.8888888888888888,
              "#fdca26"
             ],
             [
              1,
              "#f0f921"
             ]
            ],
            "type": "histogram2dcontour"
           }
          ],
          "mesh3d": [
           {
            "colorbar": {
             "outlinewidth": 0,
             "ticks": ""
            },
            "type": "mesh3d"
           }
          ],
          "parcoords": [
           {
            "line": {
             "colorbar": {
              "outlinewidth": 0,
              "ticks": ""
             }
            },
            "type": "parcoords"
           }
          ],
          "pie": [
           {
            "automargin": true,
            "type": "pie"
           }
          ],
          "scatter": [
           {
            "fillpattern": {
             "fillmode": "overlay",
             "size": 10,
             "solidity": 0.2
            },
            "type": "scatter"
           }
          ],
          "scatter3d": [
           {
            "line": {
             "colorbar": {
              "outlinewidth": 0,
              "ticks": ""
             }
            },
            "marker": {
             "colorbar": {
              "outlinewidth": 0,
              "ticks": ""
             }
            },
            "type": "scatter3d"
           }
          ],
          "scattercarpet": [
           {
            "marker": {
             "colorbar": {
              "outlinewidth": 0,
              "ticks": ""
             }
            },
            "type": "scattercarpet"
           }
          ],
          "scattergeo": [
           {
            "marker": {
             "colorbar": {
              "outlinewidth": 0,
              "ticks": ""
             }
            },
            "type": "scattergeo"
           }
          ],
          "scattergl": [
           {
            "marker": {
             "colorbar": {
              "outlinewidth": 0,
              "ticks": ""
             }
            },
            "type": "scattergl"
           }
          ],
          "scattermapbox": [
           {
            "marker": {
             "colorbar": {
              "outlinewidth": 0,
              "ticks": ""
             }
            },
            "type": "scattermapbox"
           }
          ],
          "scatterpolar": [
           {
            "marker": {
             "colorbar": {
              "outlinewidth": 0,
              "ticks": ""
             }
            },
            "type": "scatterpolar"
           }
          ],
          "scatterpolargl": [
           {
            "marker": {
             "colorbar": {
              "outlinewidth": 0,
              "ticks": ""
             }
            },
            "type": "scatterpolargl"
           }
          ],
          "scatterternary": [
           {
            "marker": {
             "colorbar": {
              "outlinewidth": 0,
              "ticks": ""
             }
            },
            "type": "scatterternary"
           }
          ],
          "surface": [
           {
            "colorbar": {
             "outlinewidth": 0,
             "ticks": ""
            },
            "colorscale": [
             [
              0,
              "#0d0887"
             ],
             [
              0.1111111111111111,
              "#46039f"
             ],
             [
              0.2222222222222222,
              "#7201a8"
             ],
             [
              0.3333333333333333,
              "#9c179e"
             ],
             [
              0.4444444444444444,
              "#bd3786"
             ],
             [
              0.5555555555555556,
              "#d8576b"
             ],
             [
              0.6666666666666666,
              "#ed7953"
             ],
             [
              0.7777777777777778,
              "#fb9f3a"
             ],
             [
              0.8888888888888888,
              "#fdca26"
             ],
             [
              1,
              "#f0f921"
             ]
            ],
            "type": "surface"
           }
          ],
          "table": [
           {
            "cells": {
             "fill": {
              "color": "#EBF0F8"
             },
             "line": {
              "color": "white"
             }
            },
            "header": {
             "fill": {
              "color": "#C8D4E3"
             },
             "line": {
              "color": "white"
             }
            },
            "type": "table"
           }
          ]
         },
         "layout": {
          "annotationdefaults": {
           "arrowcolor": "#2a3f5f",
           "arrowhead": 0,
           "arrowwidth": 1
          },
          "autotypenumbers": "strict",
          "coloraxis": {
           "colorbar": {
            "outlinewidth": 0,
            "ticks": ""
           }
          },
          "colorscale": {
           "diverging": [
            [
             0,
             "#8e0152"
            ],
            [
             0.1,
             "#c51b7d"
            ],
            [
             0.2,
             "#de77ae"
            ],
            [
             0.3,
             "#f1b6da"
            ],
            [
             0.4,
             "#fde0ef"
            ],
            [
             0.5,
             "#f7f7f7"
            ],
            [
             0.6,
             "#e6f5d0"
            ],
            [
             0.7,
             "#b8e186"
            ],
            [
             0.8,
             "#7fbc41"
            ],
            [
             0.9,
             "#4d9221"
            ],
            [
             1,
             "#276419"
            ]
           ],
           "sequential": [
            [
             0,
             "#0d0887"
            ],
            [
             0.1111111111111111,
             "#46039f"
            ],
            [
             0.2222222222222222,
             "#7201a8"
            ],
            [
             0.3333333333333333,
             "#9c179e"
            ],
            [
             0.4444444444444444,
             "#bd3786"
            ],
            [
             0.5555555555555556,
             "#d8576b"
            ],
            [
             0.6666666666666666,
             "#ed7953"
            ],
            [
             0.7777777777777778,
             "#fb9f3a"
            ],
            [
             0.8888888888888888,
             "#fdca26"
            ],
            [
             1,
             "#f0f921"
            ]
           ],
           "sequentialminus": [
            [
             0,
             "#0d0887"
            ],
            [
             0.1111111111111111,
             "#46039f"
            ],
            [
             0.2222222222222222,
             "#7201a8"
            ],
            [
             0.3333333333333333,
             "#9c179e"
            ],
            [
             0.4444444444444444,
             "#bd3786"
            ],
            [
             0.5555555555555556,
             "#d8576b"
            ],
            [
             0.6666666666666666,
             "#ed7953"
            ],
            [
             0.7777777777777778,
             "#fb9f3a"
            ],
            [
             0.8888888888888888,
             "#fdca26"
            ],
            [
             1,
             "#f0f921"
            ]
           ]
          },
          "colorway": [
           "#636efa",
           "#EF553B",
           "#00cc96",
           "#ab63fa",
           "#FFA15A",
           "#19d3f3",
           "#FF6692",
           "#B6E880",
           "#FF97FF",
           "#FECB52"
          ],
          "font": {
           "color": "#2a3f5f"
          },
          "geo": {
           "bgcolor": "white",
           "lakecolor": "white",
           "landcolor": "#E5ECF6",
           "showlakes": true,
           "showland": true,
           "subunitcolor": "white"
          },
          "hoverlabel": {
           "align": "left"
          },
          "hovermode": "closest",
          "mapbox": {
           "style": "light"
          },
          "paper_bgcolor": "white",
          "plot_bgcolor": "#E5ECF6",
          "polar": {
           "angularaxis": {
            "gridcolor": "white",
            "linecolor": "white",
            "ticks": ""
           },
           "bgcolor": "#E5ECF6",
           "radialaxis": {
            "gridcolor": "white",
            "linecolor": "white",
            "ticks": ""
           }
          },
          "scene": {
           "xaxis": {
            "backgroundcolor": "#E5ECF6",
            "gridcolor": "white",
            "gridwidth": 2,
            "linecolor": "white",
            "showbackground": true,
            "ticks": "",
            "zerolinecolor": "white"
           },
           "yaxis": {
            "backgroundcolor": "#E5ECF6",
            "gridcolor": "white",
            "gridwidth": 2,
            "linecolor": "white",
            "showbackground": true,
            "ticks": "",
            "zerolinecolor": "white"
           },
           "zaxis": {
            "backgroundcolor": "#E5ECF6",
            "gridcolor": "white",
            "gridwidth": 2,
            "linecolor": "white",
            "showbackground": true,
            "ticks": "",
            "zerolinecolor": "white"
           }
          },
          "shapedefaults": {
           "line": {
            "color": "#2a3f5f"
           }
          },
          "ternary": {
           "aaxis": {
            "gridcolor": "white",
            "linecolor": "white",
            "ticks": ""
           },
           "baxis": {
            "gridcolor": "white",
            "linecolor": "white",
            "ticks": ""
           },
           "bgcolor": "#E5ECF6",
           "caxis": {
            "gridcolor": "white",
            "linecolor": "white",
            "ticks": ""
           }
          },
          "title": {
           "x": 0.05
          },
          "xaxis": {
           "automargin": true,
           "gridcolor": "white",
           "linecolor": "white",
           "ticks": "",
           "title": {
            "standoff": 15
           },
           "zerolinecolor": "white",
           "zerolinewidth": 2
          },
          "yaxis": {
           "automargin": true,
           "gridcolor": "white",
           "linecolor": "white",
           "ticks": "",
           "title": {
            "standoff": 15
           },
           "zerolinecolor": "white",
           "zerolinewidth": 2
          }
         }
        },
        "title": {
         "text": "GP Referrals from SNEE sub-icb's to other ICB'S"
        }
       }
      },
      "text/html": [
       "<div>                            <div id=\"5cd0a625-e959-4516-9323-40ec505c2db6\" class=\"plotly-graph-div\" style=\"height:1000px; width:100%;\"></div>            <script type=\"text/javascript\">                require([\"plotly\"], function(Plotly) {                    window.PLOTLYENV=window.PLOTLYENV || {};                                    if (document.getElementById(\"5cd0a625-e959-4516-9323-40ec505c2db6\")) {                    Plotly.newPlot(                        \"5cd0a625-e959-4516-9323-40ec505c2db6\",                        [{\"link\":{\"source\":[0,0,0,0,0,0,0,0,0,0,0,0,0,0,0,0,0,0,0,0,0,0,0,0,0,0,0,0,0,0,0,0,0,0,0,0,0,0,0,0,0,0,1,1,1,1,1,1,1,1,1,1,1,1,1,1,1,1,1,1,1,1,1,1,1,1,1,1,1,1,1,1,1,1,1,1,1,1,1,1,1,1,1,1,2,2,2,2,2,2,2,2,2,2,2,2,2,2,2,2,2,2,2,2,2,2,2,2,2,2,2,2,2,2,2,2,2,2,2,2,2,2,2,2,2,2],\"target\":[3,4,5,6,7,8,9,10,11,12,13,14,15,16,17,18,19,20,21,22,23,24,25,26,27,28,29,30,31,32,33,34,35,36,37,38,39,40,41,42,43,44,3,4,5,6,7,8,9,10,11,12,13,14,15,16,17,18,19,20,21,22,23,24,25,26,27,28,29,30,31,32,33,34,35,36,37,38,39,40,41,42,43,44,3,4,5,6,7,8,9,10,11,12,13,14,15,16,17,18,19,20,21,22,23,24,25,26,27,28,29,30,31,32,33,34,35,36,37,38,39,40,41,42,43,44],\"value\":[2,30,13,0,2,3870,1177,0,2,5,2,1,1,5,1,25,1454,0,17,1,9,0,0,1,62,1096,158,14,60,69,0,5,2,1,107,16,4,3,68802,3,17,3,2,122,5,0,0,32,794,1,0,4,3,5,2,2,0,1,52,0,26,5,10,2,1,2,910,27,447,12,170,187,2,2,3,0,89,25,2,0,38370,9,4,7,6,15,5,0,1,41,6597,0,0,9,1,1,0,2,0,1,591,0,28,3,3,0,0,1,37,379,82,12,44,43,0,2,8,1,52,18,2,0,42862,1,2,2]},\"node\":{\"color\":\"#330072\",\"label\":[\"06L\",\"06T\",\"07K\",\"NHS BATH AND NORTH EAST SOMERSET, SWINDON AND WILTSHIRE INTEGRATED CARE BOARD\",\"NHS BEDFORDSHIRE, LUTON AND MILTON KEYNES INTEGRATED CARE BOARD\",\"NHS BIRMINGHAM AND SOLIHULL INTEGRATED CARE BOARD\",\"NHS BLACK COUNTRY INTEGRATED CARE BOARD\",\"NHS BRISTOL, NORTH SOMERSET AND SOUTH GLOUCESTERSHIRE INTEGRATED CARE BOARD\",\"NHS BUCKINGHAMSHIRE, OXFORDSHIRE AND BERKSHIRE WEST INTEGRATED CARE BOARD\",\"NHS CAMBRIDGESHIRE AND PETERBOROUGH INTEGRATED CARE BOARD\",\"NHS CHESHIRE AND MERSEYSIDE INTEGRATED CARE BOARD\",\"NHS CORNWALL AND THE ISLES OF SCILLY INTEGRATED CARE BOARD\",\"NHS COVENTRY AND WARWICKSHIRE INTEGRATED CARE BOARD\",\"NHS DERBY AND DERBYSHIRE INTEGRATED CARE BOARD\",\"NHS DEVON INTEGRATED CARE BOARD\",\"NHS DORSET INTEGRATED CARE BOARD\",\"NHS FRIMLEY INTEGRATED CARE BOARD\",\"NHS GLOUCESTERSHIRE INTEGRATED CARE BOARD\",\"NHS GREATER MANCHESTER INTEGRATED CARE BOARD\",\"NHS HAMPSHIRE AND ISLE OF WIGHT INTEGRATED CARE BOARD\",\"NHS HEREFORDSHIRE AND WORCESTERSHIRE INTEGRATED CARE BOARD\",\"NHS HERTFORDSHIRE AND WEST ESSEX INTEGRATED CARE BOARD\",\"NHS HUMBER AND NORTH YORKSHIRE INTEGRATED CARE BOARD\",\"NHS KENT AND MEDWAY INTEGRATED CARE BOARD\",\"NHS LANCASHIRE AND SOUTH CUMBRIA INTEGRATED CARE BOARD\",\"NHS LEICESTER, LEICESTERSHIRE AND RUTLAND INTEGRATED CARE BOARD\",\"NHS LINCOLNSHIRE INTEGRATED CARE BOARD\",\"NHS MID AND SOUTH ESSEX INTEGRATED CARE BOARD\",\"NHS NORFOLK AND WAVENEY INTEGRATED CARE BOARD\",\"NHS NORTH CENTRAL LONDON INTEGRATED CARE BOARD\",\"NHS NORTH EAST AND NORTH CUMBRIA INTEGRATED CARE BOARD\",\"NHS NORTH EAST LONDON INTEGRATED CARE BOARD\",\"NHS NORTH WEST LONDON INTEGRATED CARE BOARD\",\"NHS NORTHAMPTONSHIRE INTEGRATED CARE BOARD\",\"NHS NOTTINGHAM AND NOTTINGHAMSHIRE INTEGRATED CARE BOARD\",\"NHS SHROPSHIRE, TELFORD AND WREKIN INTEGRATED CARE BOARD\",\"NHS SOMERSET INTEGRATED CARE BOARD\",\"NHS SOUTH EAST LONDON INTEGRATED CARE BOARD\",\"NHS SOUTH WEST LONDON INTEGRATED CARE BOARD\",\"NHS SOUTH YORKSHIRE INTEGRATED CARE BOARD\",\"NHS STAFFORDSHIRE AND STOKE-ON-TRENT INTEGRATED CARE BOARD\",\"NHS SUFFOLK AND NORTH EAST ESSEX INTEGRATED CARE BOARD\",\"NHS SURREY HEARTLANDS INTEGRATED CARE BOARD\",\"NHS SUSSEX INTEGRATED CARE BOARD\",\"NHS WEST YORKSHIRE INTEGRATED CARE BOARD\"],\"line\":{\"color\":\"#231F20\",\"width\":0.5},\"pad\":15,\"thickness\":20},\"type\":\"sankey\"}],                        {\"template\":{\"data\":{\"histogram2dcontour\":[{\"type\":\"histogram2dcontour\",\"colorbar\":{\"outlinewidth\":0,\"ticks\":\"\"},\"colorscale\":[[0.0,\"#0d0887\"],[0.1111111111111111,\"#46039f\"],[0.2222222222222222,\"#7201a8\"],[0.3333333333333333,\"#9c179e\"],[0.4444444444444444,\"#bd3786\"],[0.5555555555555556,\"#d8576b\"],[0.6666666666666666,\"#ed7953\"],[0.7777777777777778,\"#fb9f3a\"],[0.8888888888888888,\"#fdca26\"],[1.0,\"#f0f921\"]]}],\"choropleth\":[{\"type\":\"choropleth\",\"colorbar\":{\"outlinewidth\":0,\"ticks\":\"\"}}],\"histogram2d\":[{\"type\":\"histogram2d\",\"colorbar\":{\"outlinewidth\":0,\"ticks\":\"\"},\"colorscale\":[[0.0,\"#0d0887\"],[0.1111111111111111,\"#46039f\"],[0.2222222222222222,\"#7201a8\"],[0.3333333333333333,\"#9c179e\"],[0.4444444444444444,\"#bd3786\"],[0.5555555555555556,\"#d8576b\"],[0.6666666666666666,\"#ed7953\"],[0.7777777777777778,\"#fb9f3a\"],[0.8888888888888888,\"#fdca26\"],[1.0,\"#f0f921\"]]}],\"heatmap\":[{\"type\":\"heatmap\",\"colorbar\":{\"outlinewidth\":0,\"ticks\":\"\"},\"colorscale\":[[0.0,\"#0d0887\"],[0.1111111111111111,\"#46039f\"],[0.2222222222222222,\"#7201a8\"],[0.3333333333333333,\"#9c179e\"],[0.4444444444444444,\"#bd3786\"],[0.5555555555555556,\"#d8576b\"],[0.6666666666666666,\"#ed7953\"],[0.7777777777777778,\"#fb9f3a\"],[0.8888888888888888,\"#fdca26\"],[1.0,\"#f0f921\"]]}],\"heatmapgl\":[{\"type\":\"heatmapgl\",\"colorbar\":{\"outlinewidth\":0,\"ticks\":\"\"},\"colorscale\":[[0.0,\"#0d0887\"],[0.1111111111111111,\"#46039f\"],[0.2222222222222222,\"#7201a8\"],[0.3333333333333333,\"#9c179e\"],[0.4444444444444444,\"#bd3786\"],[0.5555555555555556,\"#d8576b\"],[0.6666666666666666,\"#ed7953\"],[0.7777777777777778,\"#fb9f3a\"],[0.8888888888888888,\"#fdca26\"],[1.0,\"#f0f921\"]]}],\"contourcarpet\":[{\"type\":\"contourcarpet\",\"colorbar\":{\"outlinewidth\":0,\"ticks\":\"\"}}],\"contour\":[{\"type\":\"contour\",\"colorbar\":{\"outlinewidth\":0,\"ticks\":\"\"},\"colorscale\":[[0.0,\"#0d0887\"],[0.1111111111111111,\"#46039f\"],[0.2222222222222222,\"#7201a8\"],[0.3333333333333333,\"#9c179e\"],[0.4444444444444444,\"#bd3786\"],[0.5555555555555556,\"#d8576b\"],[0.6666666666666666,\"#ed7953\"],[0.7777777777777778,\"#fb9f3a\"],[0.8888888888888888,\"#fdca26\"],[1.0,\"#f0f921\"]]}],\"surface\":[{\"type\":\"surface\",\"colorbar\":{\"outlinewidth\":0,\"ticks\":\"\"},\"colorscale\":[[0.0,\"#0d0887\"],[0.1111111111111111,\"#46039f\"],[0.2222222222222222,\"#7201a8\"],[0.3333333333333333,\"#9c179e\"],[0.4444444444444444,\"#bd3786\"],[0.5555555555555556,\"#d8576b\"],[0.6666666666666666,\"#ed7953\"],[0.7777777777777778,\"#fb9f3a\"],[0.8888888888888888,\"#fdca26\"],[1.0,\"#f0f921\"]]}],\"mesh3d\":[{\"type\":\"mesh3d\",\"colorbar\":{\"outlinewidth\":0,\"ticks\":\"\"}}],\"scatter\":[{\"fillpattern\":{\"fillmode\":\"overlay\",\"size\":10,\"solidity\":0.2},\"type\":\"scatter\"}],\"parcoords\":[{\"type\":\"parcoords\",\"line\":{\"colorbar\":{\"outlinewidth\":0,\"ticks\":\"\"}}}],\"scatterpolargl\":[{\"type\":\"scatterpolargl\",\"marker\":{\"colorbar\":{\"outlinewidth\":0,\"ticks\":\"\"}}}],\"bar\":[{\"error_x\":{\"color\":\"#2a3f5f\"},\"error_y\":{\"color\":\"#2a3f5f\"},\"marker\":{\"line\":{\"color\":\"#E5ECF6\",\"width\":0.5},\"pattern\":{\"fillmode\":\"overlay\",\"size\":10,\"solidity\":0.2}},\"type\":\"bar\"}],\"scattergeo\":[{\"type\":\"scattergeo\",\"marker\":{\"colorbar\":{\"outlinewidth\":0,\"ticks\":\"\"}}}],\"scatterpolar\":[{\"type\":\"scatterpolar\",\"marker\":{\"colorbar\":{\"outlinewidth\":0,\"ticks\":\"\"}}}],\"histogram\":[{\"marker\":{\"pattern\":{\"fillmode\":\"overlay\",\"size\":10,\"solidity\":0.2}},\"type\":\"histogram\"}],\"scattergl\":[{\"type\":\"scattergl\",\"marker\":{\"colorbar\":{\"outlinewidth\":0,\"ticks\":\"\"}}}],\"scatter3d\":[{\"type\":\"scatter3d\",\"line\":{\"colorbar\":{\"outlinewidth\":0,\"ticks\":\"\"}},\"marker\":{\"colorbar\":{\"outlinewidth\":0,\"ticks\":\"\"}}}],\"scattermapbox\":[{\"type\":\"scattermapbox\",\"marker\":{\"colorbar\":{\"outlinewidth\":0,\"ticks\":\"\"}}}],\"scatterternary\":[{\"type\":\"scatterternary\",\"marker\":{\"colorbar\":{\"outlinewidth\":0,\"ticks\":\"\"}}}],\"scattercarpet\":[{\"type\":\"scattercarpet\",\"marker\":{\"colorbar\":{\"outlinewidth\":0,\"ticks\":\"\"}}}],\"carpet\":[{\"aaxis\":{\"endlinecolor\":\"#2a3f5f\",\"gridcolor\":\"white\",\"linecolor\":\"white\",\"minorgridcolor\":\"white\",\"startlinecolor\":\"#2a3f5f\"},\"baxis\":{\"endlinecolor\":\"#2a3f5f\",\"gridcolor\":\"white\",\"linecolor\":\"white\",\"minorgridcolor\":\"white\",\"startlinecolor\":\"#2a3f5f\"},\"type\":\"carpet\"}],\"table\":[{\"cells\":{\"fill\":{\"color\":\"#EBF0F8\"},\"line\":{\"color\":\"white\"}},\"header\":{\"fill\":{\"color\":\"#C8D4E3\"},\"line\":{\"color\":\"white\"}},\"type\":\"table\"}],\"barpolar\":[{\"marker\":{\"line\":{\"color\":\"#E5ECF6\",\"width\":0.5},\"pattern\":{\"fillmode\":\"overlay\",\"size\":10,\"solidity\":0.2}},\"type\":\"barpolar\"}],\"pie\":[{\"automargin\":true,\"type\":\"pie\"}]},\"layout\":{\"autotypenumbers\":\"strict\",\"colorway\":[\"#636efa\",\"#EF553B\",\"#00cc96\",\"#ab63fa\",\"#FFA15A\",\"#19d3f3\",\"#FF6692\",\"#B6E880\",\"#FF97FF\",\"#FECB52\"],\"font\":{\"color\":\"#2a3f5f\"},\"hovermode\":\"closest\",\"hoverlabel\":{\"align\":\"left\"},\"paper_bgcolor\":\"white\",\"plot_bgcolor\":\"#E5ECF6\",\"polar\":{\"bgcolor\":\"#E5ECF6\",\"angularaxis\":{\"gridcolor\":\"white\",\"linecolor\":\"white\",\"ticks\":\"\"},\"radialaxis\":{\"gridcolor\":\"white\",\"linecolor\":\"white\",\"ticks\":\"\"}},\"ternary\":{\"bgcolor\":\"#E5ECF6\",\"aaxis\":{\"gridcolor\":\"white\",\"linecolor\":\"white\",\"ticks\":\"\"},\"baxis\":{\"gridcolor\":\"white\",\"linecolor\":\"white\",\"ticks\":\"\"},\"caxis\":{\"gridcolor\":\"white\",\"linecolor\":\"white\",\"ticks\":\"\"}},\"coloraxis\":{\"colorbar\":{\"outlinewidth\":0,\"ticks\":\"\"}},\"colorscale\":{\"sequential\":[[0.0,\"#0d0887\"],[0.1111111111111111,\"#46039f\"],[0.2222222222222222,\"#7201a8\"],[0.3333333333333333,\"#9c179e\"],[0.4444444444444444,\"#bd3786\"],[0.5555555555555556,\"#d8576b\"],[0.6666666666666666,\"#ed7953\"],[0.7777777777777778,\"#fb9f3a\"],[0.8888888888888888,\"#fdca26\"],[1.0,\"#f0f921\"]],\"sequentialminus\":[[0.0,\"#0d0887\"],[0.1111111111111111,\"#46039f\"],[0.2222222222222222,\"#7201a8\"],[0.3333333333333333,\"#9c179e\"],[0.4444444444444444,\"#bd3786\"],[0.5555555555555556,\"#d8576b\"],[0.6666666666666666,\"#ed7953\"],[0.7777777777777778,\"#fb9f3a\"],[0.8888888888888888,\"#fdca26\"],[1.0,\"#f0f921\"]],\"diverging\":[[0,\"#8e0152\"],[0.1,\"#c51b7d\"],[0.2,\"#de77ae\"],[0.3,\"#f1b6da\"],[0.4,\"#fde0ef\"],[0.5,\"#f7f7f7\"],[0.6,\"#e6f5d0\"],[0.7,\"#b8e186\"],[0.8,\"#7fbc41\"],[0.9,\"#4d9221\"],[1,\"#276419\"]]},\"xaxis\":{\"gridcolor\":\"white\",\"linecolor\":\"white\",\"ticks\":\"\",\"title\":{\"standoff\":15},\"zerolinecolor\":\"white\",\"automargin\":true,\"zerolinewidth\":2},\"yaxis\":{\"gridcolor\":\"white\",\"linecolor\":\"white\",\"ticks\":\"\",\"title\":{\"standoff\":15},\"zerolinecolor\":\"white\",\"automargin\":true,\"zerolinewidth\":2},\"scene\":{\"xaxis\":{\"backgroundcolor\":\"#E5ECF6\",\"gridcolor\":\"white\",\"linecolor\":\"white\",\"showbackground\":true,\"ticks\":\"\",\"zerolinecolor\":\"white\",\"gridwidth\":2},\"yaxis\":{\"backgroundcolor\":\"#E5ECF6\",\"gridcolor\":\"white\",\"linecolor\":\"white\",\"showbackground\":true,\"ticks\":\"\",\"zerolinecolor\":\"white\",\"gridwidth\":2},\"zaxis\":{\"backgroundcolor\":\"#E5ECF6\",\"gridcolor\":\"white\",\"linecolor\":\"white\",\"showbackground\":true,\"ticks\":\"\",\"zerolinecolor\":\"white\",\"gridwidth\":2}},\"shapedefaults\":{\"line\":{\"color\":\"#2a3f5f\"}},\"annotationdefaults\":{\"arrowcolor\":\"#2a3f5f\",\"arrowhead\":0,\"arrowwidth\":1},\"geo\":{\"bgcolor\":\"white\",\"landcolor\":\"#E5ECF6\",\"subunitcolor\":\"white\",\"showland\":true,\"showlakes\":true,\"lakecolor\":\"white\"},\"title\":{\"x\":0.05},\"mapbox\":{\"style\":\"light\"}}},\"title\":{\"text\":\"GP Referrals from SNEE sub-icb's to other ICB'S\"},\"font\":{\"size\":12},\"height\":1000},                        {\"responsive\": true}                    ).then(function(){\n",
       "                            \n",
       "var gd = document.getElementById('5cd0a625-e959-4516-9323-40ec505c2db6');\n",
       "var x = new MutationObserver(function (mutations, observer) {{\n",
       "        var display = window.getComputedStyle(gd).display;\n",
       "        if (!display || display === 'none') {{\n",
       "            console.log([gd, 'removed!']);\n",
       "            Plotly.purge(gd);\n",
       "            observer.disconnect();\n",
       "        }}\n",
       "}});\n",
       "\n",
       "// Listen for the removal of the full notebook cells\n",
       "var notebookContainer = gd.closest('#notebook-container');\n",
       "if (notebookContainer) {{\n",
       "    x.observe(notebookContainer, {childList: true});\n",
       "}}\n",
       "\n",
       "// Listen for the clearing of the current output cell\n",
       "var outputEl = gd.closest('.output');\n",
       "if (outputEl) {{\n",
       "    x.observe(outputEl, {childList: true});\n",
       "}}\n",
       "\n",
       "                        })                };                });            </script>        </div>"
      ]
     },
     "metadata": {},
     "output_type": "display_data"
    }
   ],
   "source": [
    "nodes = pd.Index(pd.concat([sankey_gp_df['Commissioner Org Code'],sankey_gp_df['Provider Parent name']]).unique())\n",
    "\n",
    "fig = go.Figure(data=[go.Sankey(\n",
    "    node = dict(\n",
    "        pad = 15,\n",
    "        thickness = 20,\n",
    "        line = dict(color='#231F20', width = 0.5),\n",
    "        label = nodes.tolist(),\n",
    "        color = '#330072'\n",
    "    ),\n",
    "    link = dict(\n",
    "      source = sankey_gp_df['Commissioner Org Code'].map(lambda x: nodes.get_loc(x)),\n",
    "      target = sankey_gp_df['Provider Parent name'].map(lambda x: nodes.get_loc(x)),\n",
    "      value = sankey_gp_df['GP_Ref']\n",
    "  ))])\n",
    "\n",
    "fig.update_layout(title_text=\"GP Referrals from SNEE sub-icb's to other ICB'S\", font_size=12, height = 1000)\n",
    "fig.show()\n",
    "                    "
   ]
  },
  {
   "cell_type": "code",
   "execution_count": 127,
   "metadata": {},
   "outputs": [],
   "source": [
    "sankey_other_df = snee_referrals_2.groupby(['Commissioner Org Code','Provider Parent name'])['Others_ref'].sum().reset_index()"
   ]
  },
  {
   "cell_type": "code",
   "execution_count": 178,
   "metadata": {},
   "outputs": [
    {
     "data": {
      "application/vnd.plotly.v1+json": {
       "config": {
        "plotlyServerURL": "https://plot.ly"
       },
       "data": [
        {
         "link": {
          "source": [
           0,
           0,
           0,
           0,
           0,
           0,
           0,
           0,
           0,
           0,
           0,
           0,
           0,
           0,
           0,
           0,
           0,
           0,
           0,
           0,
           0,
           0,
           0,
           0,
           0,
           0,
           0,
           0,
           0,
           0,
           0,
           0,
           0,
           0,
           0,
           0,
           0,
           0,
           0,
           0,
           0,
           0,
           1,
           1,
           1,
           1,
           1,
           1,
           1,
           1,
           1,
           1,
           1,
           1,
           1,
           1,
           1,
           1,
           1,
           1,
           1,
           1,
           1,
           1,
           1,
           1,
           1,
           1,
           1,
           1,
           1,
           1,
           1,
           1,
           1,
           1,
           1,
           1,
           1,
           1,
           1,
           1,
           1,
           1,
           2,
           2,
           2,
           2,
           2,
           2,
           2,
           2,
           2,
           2,
           2,
           2,
           2,
           2,
           2,
           2,
           2,
           2,
           2,
           2,
           2,
           2,
           2,
           2,
           2,
           2,
           2,
           2,
           2,
           2,
           2,
           2,
           2,
           2,
           2,
           2,
           2,
           2,
           2,
           2,
           2,
           2
          ],
          "target": [
           3,
           4,
           5,
           6,
           7,
           8,
           9,
           10,
           11,
           12,
           13,
           14,
           15,
           16,
           17,
           18,
           19,
           20,
           21,
           22,
           23,
           24,
           25,
           26,
           27,
           28,
           29,
           30,
           31,
           32,
           33,
           34,
           35,
           36,
           37,
           38,
           39,
           40,
           41,
           42,
           43,
           44,
           3,
           4,
           5,
           6,
           7,
           8,
           9,
           10,
           11,
           12,
           13,
           14,
           15,
           16,
           17,
           18,
           19,
           20,
           21,
           22,
           23,
           24,
           25,
           26,
           27,
           28,
           29,
           30,
           31,
           32,
           33,
           34,
           35,
           36,
           37,
           38,
           39,
           40,
           41,
           42,
           43,
           44,
           3,
           4,
           5,
           6,
           7,
           8,
           9,
           10,
           11,
           12,
           13,
           14,
           15,
           16,
           17,
           18,
           19,
           20,
           21,
           22,
           23,
           24,
           25,
           26,
           27,
           28,
           29,
           30,
           31,
           32,
           33,
           34,
           35,
           36,
           37,
           38,
           39,
           40,
           41,
           42,
           43,
           44
          ],
          "value": [
           7,
           45,
           20,
           4,
           9,
           209,
           3907,
           19,
           1,
           9,
           14,
           4,
           6,
           1,
           1,
           32,
           2951,
           4,
           24,
           10,
           12,
           3,
           8,
           6,
           253,
           1552,
           544,
           32,
           375,
           339,
           14,
           10,
           0,
           0,
           292,
           37,
           39,
           1,
           60351,
           12,
           11,
           7,
           8,
           54,
           16,
           3,
           10,
           40,
           1270,
           13,
           6,
           5,
           1,
           2,
           2,
           5,
           1,
           5,
           1074,
           5,
           66,
           7,
           34,
           3,
           6,
           7,
           3496,
           115,
           1379,
           8,
           954,
           471,
           4,
           4,
           2,
           2,
           402,
           65,
           12,
           1,
           30543,
           9,
           5,
           7,
           6,
           54,
           14,
           1,
           7,
           422,
           11728,
           4,
           1,
           4,
           4,
           3,
           6,
           3,
           2,
           4,
           1466,
           4,
           32,
           10,
           13,
           3,
           8,
           4,
           259,
           682,
           281,
           15,
           290,
           171,
           8,
           9,
           3,
           1,
           165,
           33,
           18,
           2,
           33463,
           6,
           9,
           9
          ]
         },
         "node": {
          "color": "#330072",
          "label": [
           "06L",
           "06T",
           "07K",
           "NHS BATH AND NORTH EAST SOMERSET, SWINDON AND WILTSHIRE INTEGRATED CARE BOARD",
           "NHS BEDFORDSHIRE, LUTON AND MILTON KEYNES INTEGRATED CARE BOARD",
           "NHS BIRMINGHAM AND SOLIHULL INTEGRATED CARE BOARD",
           "NHS BLACK COUNTRY INTEGRATED CARE BOARD",
           "NHS BRISTOL, NORTH SOMERSET AND SOUTH GLOUCESTERSHIRE INTEGRATED CARE BOARD",
           "NHS BUCKINGHAMSHIRE, OXFORDSHIRE AND BERKSHIRE WEST INTEGRATED CARE BOARD",
           "NHS CAMBRIDGESHIRE AND PETERBOROUGH INTEGRATED CARE BOARD",
           "NHS CHESHIRE AND MERSEYSIDE INTEGRATED CARE BOARD",
           "NHS CORNWALL AND THE ISLES OF SCILLY INTEGRATED CARE BOARD",
           "NHS COVENTRY AND WARWICKSHIRE INTEGRATED CARE BOARD",
           "NHS DERBY AND DERBYSHIRE INTEGRATED CARE BOARD",
           "NHS DEVON INTEGRATED CARE BOARD",
           "NHS DORSET INTEGRATED CARE BOARD",
           "NHS FRIMLEY INTEGRATED CARE BOARD",
           "NHS GLOUCESTERSHIRE INTEGRATED CARE BOARD",
           "NHS GREATER MANCHESTER INTEGRATED CARE BOARD",
           "NHS HAMPSHIRE AND ISLE OF WIGHT INTEGRATED CARE BOARD",
           "NHS HEREFORDSHIRE AND WORCESTERSHIRE INTEGRATED CARE BOARD",
           "NHS HERTFORDSHIRE AND WEST ESSEX INTEGRATED CARE BOARD",
           "NHS HUMBER AND NORTH YORKSHIRE INTEGRATED CARE BOARD",
           "NHS KENT AND MEDWAY INTEGRATED CARE BOARD",
           "NHS LANCASHIRE AND SOUTH CUMBRIA INTEGRATED CARE BOARD",
           "NHS LEICESTER, LEICESTERSHIRE AND RUTLAND INTEGRATED CARE BOARD",
           "NHS LINCOLNSHIRE INTEGRATED CARE BOARD",
           "NHS MID AND SOUTH ESSEX INTEGRATED CARE BOARD",
           "NHS NORFOLK AND WAVENEY INTEGRATED CARE BOARD",
           "NHS NORTH CENTRAL LONDON INTEGRATED CARE BOARD",
           "NHS NORTH EAST AND NORTH CUMBRIA INTEGRATED CARE BOARD",
           "NHS NORTH EAST LONDON INTEGRATED CARE BOARD",
           "NHS NORTH WEST LONDON INTEGRATED CARE BOARD",
           "NHS NORTHAMPTONSHIRE INTEGRATED CARE BOARD",
           "NHS NOTTINGHAM AND NOTTINGHAMSHIRE INTEGRATED CARE BOARD",
           "NHS SHROPSHIRE, TELFORD AND WREKIN INTEGRATED CARE BOARD",
           "NHS SOMERSET INTEGRATED CARE BOARD",
           "NHS SOUTH EAST LONDON INTEGRATED CARE BOARD",
           "NHS SOUTH WEST LONDON INTEGRATED CARE BOARD",
           "NHS SOUTH YORKSHIRE INTEGRATED CARE BOARD",
           "NHS STAFFORDSHIRE AND STOKE-ON-TRENT INTEGRATED CARE BOARD",
           "NHS SUFFOLK AND NORTH EAST ESSEX INTEGRATED CARE BOARD",
           "NHS SURREY HEARTLANDS INTEGRATED CARE BOARD",
           "NHS SUSSEX INTEGRATED CARE BOARD",
           "NHS WEST YORKSHIRE INTEGRATED CARE BOARD"
          ],
          "line": {
           "color": "#231F20",
           "width": 0.5
          },
          "pad": 15,
          "thickness": 20
         },
         "type": "sankey"
        }
       ],
       "layout": {
        "font": {
         "size": 11
        },
        "height": 1000,
        "template": {
         "data": {
          "bar": [
           {
            "error_x": {
             "color": "#2a3f5f"
            },
            "error_y": {
             "color": "#2a3f5f"
            },
            "marker": {
             "line": {
              "color": "#E5ECF6",
              "width": 0.5
             },
             "pattern": {
              "fillmode": "overlay",
              "size": 10,
              "solidity": 0.2
             }
            },
            "type": "bar"
           }
          ],
          "barpolar": [
           {
            "marker": {
             "line": {
              "color": "#E5ECF6",
              "width": 0.5
             },
             "pattern": {
              "fillmode": "overlay",
              "size": 10,
              "solidity": 0.2
             }
            },
            "type": "barpolar"
           }
          ],
          "carpet": [
           {
            "aaxis": {
             "endlinecolor": "#2a3f5f",
             "gridcolor": "white",
             "linecolor": "white",
             "minorgridcolor": "white",
             "startlinecolor": "#2a3f5f"
            },
            "baxis": {
             "endlinecolor": "#2a3f5f",
             "gridcolor": "white",
             "linecolor": "white",
             "minorgridcolor": "white",
             "startlinecolor": "#2a3f5f"
            },
            "type": "carpet"
           }
          ],
          "choropleth": [
           {
            "colorbar": {
             "outlinewidth": 0,
             "ticks": ""
            },
            "type": "choropleth"
           }
          ],
          "contour": [
           {
            "colorbar": {
             "outlinewidth": 0,
             "ticks": ""
            },
            "colorscale": [
             [
              0,
              "#0d0887"
             ],
             [
              0.1111111111111111,
              "#46039f"
             ],
             [
              0.2222222222222222,
              "#7201a8"
             ],
             [
              0.3333333333333333,
              "#9c179e"
             ],
             [
              0.4444444444444444,
              "#bd3786"
             ],
             [
              0.5555555555555556,
              "#d8576b"
             ],
             [
              0.6666666666666666,
              "#ed7953"
             ],
             [
              0.7777777777777778,
              "#fb9f3a"
             ],
             [
              0.8888888888888888,
              "#fdca26"
             ],
             [
              1,
              "#f0f921"
             ]
            ],
            "type": "contour"
           }
          ],
          "contourcarpet": [
           {
            "colorbar": {
             "outlinewidth": 0,
             "ticks": ""
            },
            "type": "contourcarpet"
           }
          ],
          "heatmap": [
           {
            "colorbar": {
             "outlinewidth": 0,
             "ticks": ""
            },
            "colorscale": [
             [
              0,
              "#0d0887"
             ],
             [
              0.1111111111111111,
              "#46039f"
             ],
             [
              0.2222222222222222,
              "#7201a8"
             ],
             [
              0.3333333333333333,
              "#9c179e"
             ],
             [
              0.4444444444444444,
              "#bd3786"
             ],
             [
              0.5555555555555556,
              "#d8576b"
             ],
             [
              0.6666666666666666,
              "#ed7953"
             ],
             [
              0.7777777777777778,
              "#fb9f3a"
             ],
             [
              0.8888888888888888,
              "#fdca26"
             ],
             [
              1,
              "#f0f921"
             ]
            ],
            "type": "heatmap"
           }
          ],
          "heatmapgl": [
           {
            "colorbar": {
             "outlinewidth": 0,
             "ticks": ""
            },
            "colorscale": [
             [
              0,
              "#0d0887"
             ],
             [
              0.1111111111111111,
              "#46039f"
             ],
             [
              0.2222222222222222,
              "#7201a8"
             ],
             [
              0.3333333333333333,
              "#9c179e"
             ],
             [
              0.4444444444444444,
              "#bd3786"
             ],
             [
              0.5555555555555556,
              "#d8576b"
             ],
             [
              0.6666666666666666,
              "#ed7953"
             ],
             [
              0.7777777777777778,
              "#fb9f3a"
             ],
             [
              0.8888888888888888,
              "#fdca26"
             ],
             [
              1,
              "#f0f921"
             ]
            ],
            "type": "heatmapgl"
           }
          ],
          "histogram": [
           {
            "marker": {
             "pattern": {
              "fillmode": "overlay",
              "size": 10,
              "solidity": 0.2
             }
            },
            "type": "histogram"
           }
          ],
          "histogram2d": [
           {
            "colorbar": {
             "outlinewidth": 0,
             "ticks": ""
            },
            "colorscale": [
             [
              0,
              "#0d0887"
             ],
             [
              0.1111111111111111,
              "#46039f"
             ],
             [
              0.2222222222222222,
              "#7201a8"
             ],
             [
              0.3333333333333333,
              "#9c179e"
             ],
             [
              0.4444444444444444,
              "#bd3786"
             ],
             [
              0.5555555555555556,
              "#d8576b"
             ],
             [
              0.6666666666666666,
              "#ed7953"
             ],
             [
              0.7777777777777778,
              "#fb9f3a"
             ],
             [
              0.8888888888888888,
              "#fdca26"
             ],
             [
              1,
              "#f0f921"
             ]
            ],
            "type": "histogram2d"
           }
          ],
          "histogram2dcontour": [
           {
            "colorbar": {
             "outlinewidth": 0,
             "ticks": ""
            },
            "colorscale": [
             [
              0,
              "#0d0887"
             ],
             [
              0.1111111111111111,
              "#46039f"
             ],
             [
              0.2222222222222222,
              "#7201a8"
             ],
             [
              0.3333333333333333,
              "#9c179e"
             ],
             [
              0.4444444444444444,
              "#bd3786"
             ],
             [
              0.5555555555555556,
              "#d8576b"
             ],
             [
              0.6666666666666666,
              "#ed7953"
             ],
             [
              0.7777777777777778,
              "#fb9f3a"
             ],
             [
              0.8888888888888888,
              "#fdca26"
             ],
             [
              1,
              "#f0f921"
             ]
            ],
            "type": "histogram2dcontour"
           }
          ],
          "mesh3d": [
           {
            "colorbar": {
             "outlinewidth": 0,
             "ticks": ""
            },
            "type": "mesh3d"
           }
          ],
          "parcoords": [
           {
            "line": {
             "colorbar": {
              "outlinewidth": 0,
              "ticks": ""
             }
            },
            "type": "parcoords"
           }
          ],
          "pie": [
           {
            "automargin": true,
            "type": "pie"
           }
          ],
          "scatter": [
           {
            "fillpattern": {
             "fillmode": "overlay",
             "size": 10,
             "solidity": 0.2
            },
            "type": "scatter"
           }
          ],
          "scatter3d": [
           {
            "line": {
             "colorbar": {
              "outlinewidth": 0,
              "ticks": ""
             }
            },
            "marker": {
             "colorbar": {
              "outlinewidth": 0,
              "ticks": ""
             }
            },
            "type": "scatter3d"
           }
          ],
          "scattercarpet": [
           {
            "marker": {
             "colorbar": {
              "outlinewidth": 0,
              "ticks": ""
             }
            },
            "type": "scattercarpet"
           }
          ],
          "scattergeo": [
           {
            "marker": {
             "colorbar": {
              "outlinewidth": 0,
              "ticks": ""
             }
            },
            "type": "scattergeo"
           }
          ],
          "scattergl": [
           {
            "marker": {
             "colorbar": {
              "outlinewidth": 0,
              "ticks": ""
             }
            },
            "type": "scattergl"
           }
          ],
          "scattermapbox": [
           {
            "marker": {
             "colorbar": {
              "outlinewidth": 0,
              "ticks": ""
             }
            },
            "type": "scattermapbox"
           }
          ],
          "scatterpolar": [
           {
            "marker": {
             "colorbar": {
              "outlinewidth": 0,
              "ticks": ""
             }
            },
            "type": "scatterpolar"
           }
          ],
          "scatterpolargl": [
           {
            "marker": {
             "colorbar": {
              "outlinewidth": 0,
              "ticks": ""
             }
            },
            "type": "scatterpolargl"
           }
          ],
          "scatterternary": [
           {
            "marker": {
             "colorbar": {
              "outlinewidth": 0,
              "ticks": ""
             }
            },
            "type": "scatterternary"
           }
          ],
          "surface": [
           {
            "colorbar": {
             "outlinewidth": 0,
             "ticks": ""
            },
            "colorscale": [
             [
              0,
              "#0d0887"
             ],
             [
              0.1111111111111111,
              "#46039f"
             ],
             [
              0.2222222222222222,
              "#7201a8"
             ],
             [
              0.3333333333333333,
              "#9c179e"
             ],
             [
              0.4444444444444444,
              "#bd3786"
             ],
             [
              0.5555555555555556,
              "#d8576b"
             ],
             [
              0.6666666666666666,
              "#ed7953"
             ],
             [
              0.7777777777777778,
              "#fb9f3a"
             ],
             [
              0.8888888888888888,
              "#fdca26"
             ],
             [
              1,
              "#f0f921"
             ]
            ],
            "type": "surface"
           }
          ],
          "table": [
           {
            "cells": {
             "fill": {
              "color": "#EBF0F8"
             },
             "line": {
              "color": "white"
             }
            },
            "header": {
             "fill": {
              "color": "#C8D4E3"
             },
             "line": {
              "color": "white"
             }
            },
            "type": "table"
           }
          ]
         },
         "layout": {
          "annotationdefaults": {
           "arrowcolor": "#2a3f5f",
           "arrowhead": 0,
           "arrowwidth": 1
          },
          "autotypenumbers": "strict",
          "coloraxis": {
           "colorbar": {
            "outlinewidth": 0,
            "ticks": ""
           }
          },
          "colorscale": {
           "diverging": [
            [
             0,
             "#8e0152"
            ],
            [
             0.1,
             "#c51b7d"
            ],
            [
             0.2,
             "#de77ae"
            ],
            [
             0.3,
             "#f1b6da"
            ],
            [
             0.4,
             "#fde0ef"
            ],
            [
             0.5,
             "#f7f7f7"
            ],
            [
             0.6,
             "#e6f5d0"
            ],
            [
             0.7,
             "#b8e186"
            ],
            [
             0.8,
             "#7fbc41"
            ],
            [
             0.9,
             "#4d9221"
            ],
            [
             1,
             "#276419"
            ]
           ],
           "sequential": [
            [
             0,
             "#0d0887"
            ],
            [
             0.1111111111111111,
             "#46039f"
            ],
            [
             0.2222222222222222,
             "#7201a8"
            ],
            [
             0.3333333333333333,
             "#9c179e"
            ],
            [
             0.4444444444444444,
             "#bd3786"
            ],
            [
             0.5555555555555556,
             "#d8576b"
            ],
            [
             0.6666666666666666,
             "#ed7953"
            ],
            [
             0.7777777777777778,
             "#fb9f3a"
            ],
            [
             0.8888888888888888,
             "#fdca26"
            ],
            [
             1,
             "#f0f921"
            ]
           ],
           "sequentialminus": [
            [
             0,
             "#0d0887"
            ],
            [
             0.1111111111111111,
             "#46039f"
            ],
            [
             0.2222222222222222,
             "#7201a8"
            ],
            [
             0.3333333333333333,
             "#9c179e"
            ],
            [
             0.4444444444444444,
             "#bd3786"
            ],
            [
             0.5555555555555556,
             "#d8576b"
            ],
            [
             0.6666666666666666,
             "#ed7953"
            ],
            [
             0.7777777777777778,
             "#fb9f3a"
            ],
            [
             0.8888888888888888,
             "#fdca26"
            ],
            [
             1,
             "#f0f921"
            ]
           ]
          },
          "colorway": [
           "#636efa",
           "#EF553B",
           "#00cc96",
           "#ab63fa",
           "#FFA15A",
           "#19d3f3",
           "#FF6692",
           "#B6E880",
           "#FF97FF",
           "#FECB52"
          ],
          "font": {
           "color": "#2a3f5f"
          },
          "geo": {
           "bgcolor": "white",
           "lakecolor": "white",
           "landcolor": "#E5ECF6",
           "showlakes": true,
           "showland": true,
           "subunitcolor": "white"
          },
          "hoverlabel": {
           "align": "left"
          },
          "hovermode": "closest",
          "mapbox": {
           "style": "light"
          },
          "paper_bgcolor": "white",
          "plot_bgcolor": "#E5ECF6",
          "polar": {
           "angularaxis": {
            "gridcolor": "white",
            "linecolor": "white",
            "ticks": ""
           },
           "bgcolor": "#E5ECF6",
           "radialaxis": {
            "gridcolor": "white",
            "linecolor": "white",
            "ticks": ""
           }
          },
          "scene": {
           "xaxis": {
            "backgroundcolor": "#E5ECF6",
            "gridcolor": "white",
            "gridwidth": 2,
            "linecolor": "white",
            "showbackground": true,
            "ticks": "",
            "zerolinecolor": "white"
           },
           "yaxis": {
            "backgroundcolor": "#E5ECF6",
            "gridcolor": "white",
            "gridwidth": 2,
            "linecolor": "white",
            "showbackground": true,
            "ticks": "",
            "zerolinecolor": "white"
           },
           "zaxis": {
            "backgroundcolor": "#E5ECF6",
            "gridcolor": "white",
            "gridwidth": 2,
            "linecolor": "white",
            "showbackground": true,
            "ticks": "",
            "zerolinecolor": "white"
           }
          },
          "shapedefaults": {
           "line": {
            "color": "#2a3f5f"
           }
          },
          "ternary": {
           "aaxis": {
            "gridcolor": "white",
            "linecolor": "white",
            "ticks": ""
           },
           "baxis": {
            "gridcolor": "white",
            "linecolor": "white",
            "ticks": ""
           },
           "bgcolor": "#E5ECF6",
           "caxis": {
            "gridcolor": "white",
            "linecolor": "white",
            "ticks": ""
           }
          },
          "title": {
           "x": 0.05
          },
          "xaxis": {
           "automargin": true,
           "gridcolor": "white",
           "linecolor": "white",
           "ticks": "",
           "title": {
            "standoff": 15
           },
           "zerolinecolor": "white",
           "zerolinewidth": 2
          },
          "yaxis": {
           "automargin": true,
           "gridcolor": "white",
           "linecolor": "white",
           "ticks": "",
           "title": {
            "standoff": 15
           },
           "zerolinecolor": "white",
           "zerolinewidth": 2
          }
         }
        },
        "title": {
         "text": "Referrals (Others) from SNEE sub-icb's to other ICB'S"
        }
       }
      },
      "text/html": [
       "<div>                            <div id=\"cacc0ab8-4bc3-4bb6-addd-1693e0394716\" class=\"plotly-graph-div\" style=\"height:1000px; width:100%;\"></div>            <script type=\"text/javascript\">                require([\"plotly\"], function(Plotly) {                    window.PLOTLYENV=window.PLOTLYENV || {};                                    if (document.getElementById(\"cacc0ab8-4bc3-4bb6-addd-1693e0394716\")) {                    Plotly.newPlot(                        \"cacc0ab8-4bc3-4bb6-addd-1693e0394716\",                        [{\"link\":{\"source\":[0,0,0,0,0,0,0,0,0,0,0,0,0,0,0,0,0,0,0,0,0,0,0,0,0,0,0,0,0,0,0,0,0,0,0,0,0,0,0,0,0,0,1,1,1,1,1,1,1,1,1,1,1,1,1,1,1,1,1,1,1,1,1,1,1,1,1,1,1,1,1,1,1,1,1,1,1,1,1,1,1,1,1,1,2,2,2,2,2,2,2,2,2,2,2,2,2,2,2,2,2,2,2,2,2,2,2,2,2,2,2,2,2,2,2,2,2,2,2,2,2,2,2,2,2,2],\"target\":[3,4,5,6,7,8,9,10,11,12,13,14,15,16,17,18,19,20,21,22,23,24,25,26,27,28,29,30,31,32,33,34,35,36,37,38,39,40,41,42,43,44,3,4,5,6,7,8,9,10,11,12,13,14,15,16,17,18,19,20,21,22,23,24,25,26,27,28,29,30,31,32,33,34,35,36,37,38,39,40,41,42,43,44,3,4,5,6,7,8,9,10,11,12,13,14,15,16,17,18,19,20,21,22,23,24,25,26,27,28,29,30,31,32,33,34,35,36,37,38,39,40,41,42,43,44],\"value\":[7,45,20,4,9,209,3907,19,1,9,14,4,6,1,1,32,2951,4,24,10,12,3,8,6,253,1552,544,32,375,339,14,10,0,0,292,37,39,1,60351,12,11,7,8,54,16,3,10,40,1270,13,6,5,1,2,2,5,1,5,1074,5,66,7,34,3,6,7,3496,115,1379,8,954,471,4,4,2,2,402,65,12,1,30543,9,5,7,6,54,14,1,7,422,11728,4,1,4,4,3,6,3,2,4,1466,4,32,10,13,3,8,4,259,682,281,15,290,171,8,9,3,1,165,33,18,2,33463,6,9,9]},\"node\":{\"color\":\"#330072\",\"label\":[\"06L\",\"06T\",\"07K\",\"NHS BATH AND NORTH EAST SOMERSET, SWINDON AND WILTSHIRE INTEGRATED CARE BOARD\",\"NHS BEDFORDSHIRE, LUTON AND MILTON KEYNES INTEGRATED CARE BOARD\",\"NHS BIRMINGHAM AND SOLIHULL INTEGRATED CARE BOARD\",\"NHS BLACK COUNTRY INTEGRATED CARE BOARD\",\"NHS BRISTOL, NORTH SOMERSET AND SOUTH GLOUCESTERSHIRE INTEGRATED CARE BOARD\",\"NHS BUCKINGHAMSHIRE, OXFORDSHIRE AND BERKSHIRE WEST INTEGRATED CARE BOARD\",\"NHS CAMBRIDGESHIRE AND PETERBOROUGH INTEGRATED CARE BOARD\",\"NHS CHESHIRE AND MERSEYSIDE INTEGRATED CARE BOARD\",\"NHS CORNWALL AND THE ISLES OF SCILLY INTEGRATED CARE BOARD\",\"NHS COVENTRY AND WARWICKSHIRE INTEGRATED CARE BOARD\",\"NHS DERBY AND DERBYSHIRE INTEGRATED CARE BOARD\",\"NHS DEVON INTEGRATED CARE BOARD\",\"NHS DORSET INTEGRATED CARE BOARD\",\"NHS FRIMLEY INTEGRATED CARE BOARD\",\"NHS GLOUCESTERSHIRE INTEGRATED CARE BOARD\",\"NHS GREATER MANCHESTER INTEGRATED CARE BOARD\",\"NHS HAMPSHIRE AND ISLE OF WIGHT INTEGRATED CARE BOARD\",\"NHS HEREFORDSHIRE AND WORCESTERSHIRE INTEGRATED CARE BOARD\",\"NHS HERTFORDSHIRE AND WEST ESSEX INTEGRATED CARE BOARD\",\"NHS HUMBER AND NORTH YORKSHIRE INTEGRATED CARE BOARD\",\"NHS KENT AND MEDWAY INTEGRATED CARE BOARD\",\"NHS LANCASHIRE AND SOUTH CUMBRIA INTEGRATED CARE BOARD\",\"NHS LEICESTER, LEICESTERSHIRE AND RUTLAND INTEGRATED CARE BOARD\",\"NHS LINCOLNSHIRE INTEGRATED CARE BOARD\",\"NHS MID AND SOUTH ESSEX INTEGRATED CARE BOARD\",\"NHS NORFOLK AND WAVENEY INTEGRATED CARE BOARD\",\"NHS NORTH CENTRAL LONDON INTEGRATED CARE BOARD\",\"NHS NORTH EAST AND NORTH CUMBRIA INTEGRATED CARE BOARD\",\"NHS NORTH EAST LONDON INTEGRATED CARE BOARD\",\"NHS NORTH WEST LONDON INTEGRATED CARE BOARD\",\"NHS NORTHAMPTONSHIRE INTEGRATED CARE BOARD\",\"NHS NOTTINGHAM AND NOTTINGHAMSHIRE INTEGRATED CARE BOARD\",\"NHS SHROPSHIRE, TELFORD AND WREKIN INTEGRATED CARE BOARD\",\"NHS SOMERSET INTEGRATED CARE BOARD\",\"NHS SOUTH EAST LONDON INTEGRATED CARE BOARD\",\"NHS SOUTH WEST LONDON INTEGRATED CARE BOARD\",\"NHS SOUTH YORKSHIRE INTEGRATED CARE BOARD\",\"NHS STAFFORDSHIRE AND STOKE-ON-TRENT INTEGRATED CARE BOARD\",\"NHS SUFFOLK AND NORTH EAST ESSEX INTEGRATED CARE BOARD\",\"NHS SURREY HEARTLANDS INTEGRATED CARE BOARD\",\"NHS SUSSEX INTEGRATED CARE BOARD\",\"NHS WEST YORKSHIRE INTEGRATED CARE BOARD\"],\"line\":{\"color\":\"#231F20\",\"width\":0.5},\"pad\":15,\"thickness\":20},\"type\":\"sankey\"}],                        {\"template\":{\"data\":{\"histogram2dcontour\":[{\"type\":\"histogram2dcontour\",\"colorbar\":{\"outlinewidth\":0,\"ticks\":\"\"},\"colorscale\":[[0.0,\"#0d0887\"],[0.1111111111111111,\"#46039f\"],[0.2222222222222222,\"#7201a8\"],[0.3333333333333333,\"#9c179e\"],[0.4444444444444444,\"#bd3786\"],[0.5555555555555556,\"#d8576b\"],[0.6666666666666666,\"#ed7953\"],[0.7777777777777778,\"#fb9f3a\"],[0.8888888888888888,\"#fdca26\"],[1.0,\"#f0f921\"]]}],\"choropleth\":[{\"type\":\"choropleth\",\"colorbar\":{\"outlinewidth\":0,\"ticks\":\"\"}}],\"histogram2d\":[{\"type\":\"histogram2d\",\"colorbar\":{\"outlinewidth\":0,\"ticks\":\"\"},\"colorscale\":[[0.0,\"#0d0887\"],[0.1111111111111111,\"#46039f\"],[0.2222222222222222,\"#7201a8\"],[0.3333333333333333,\"#9c179e\"],[0.4444444444444444,\"#bd3786\"],[0.5555555555555556,\"#d8576b\"],[0.6666666666666666,\"#ed7953\"],[0.7777777777777778,\"#fb9f3a\"],[0.8888888888888888,\"#fdca26\"],[1.0,\"#f0f921\"]]}],\"heatmap\":[{\"type\":\"heatmap\",\"colorbar\":{\"outlinewidth\":0,\"ticks\":\"\"},\"colorscale\":[[0.0,\"#0d0887\"],[0.1111111111111111,\"#46039f\"],[0.2222222222222222,\"#7201a8\"],[0.3333333333333333,\"#9c179e\"],[0.4444444444444444,\"#bd3786\"],[0.5555555555555556,\"#d8576b\"],[0.6666666666666666,\"#ed7953\"],[0.7777777777777778,\"#fb9f3a\"],[0.8888888888888888,\"#fdca26\"],[1.0,\"#f0f921\"]]}],\"heatmapgl\":[{\"type\":\"heatmapgl\",\"colorbar\":{\"outlinewidth\":0,\"ticks\":\"\"},\"colorscale\":[[0.0,\"#0d0887\"],[0.1111111111111111,\"#46039f\"],[0.2222222222222222,\"#7201a8\"],[0.3333333333333333,\"#9c179e\"],[0.4444444444444444,\"#bd3786\"],[0.5555555555555556,\"#d8576b\"],[0.6666666666666666,\"#ed7953\"],[0.7777777777777778,\"#fb9f3a\"],[0.8888888888888888,\"#fdca26\"],[1.0,\"#f0f921\"]]}],\"contourcarpet\":[{\"type\":\"contourcarpet\",\"colorbar\":{\"outlinewidth\":0,\"ticks\":\"\"}}],\"contour\":[{\"type\":\"contour\",\"colorbar\":{\"outlinewidth\":0,\"ticks\":\"\"},\"colorscale\":[[0.0,\"#0d0887\"],[0.1111111111111111,\"#46039f\"],[0.2222222222222222,\"#7201a8\"],[0.3333333333333333,\"#9c179e\"],[0.4444444444444444,\"#bd3786\"],[0.5555555555555556,\"#d8576b\"],[0.6666666666666666,\"#ed7953\"],[0.7777777777777778,\"#fb9f3a\"],[0.8888888888888888,\"#fdca26\"],[1.0,\"#f0f921\"]]}],\"surface\":[{\"type\":\"surface\",\"colorbar\":{\"outlinewidth\":0,\"ticks\":\"\"},\"colorscale\":[[0.0,\"#0d0887\"],[0.1111111111111111,\"#46039f\"],[0.2222222222222222,\"#7201a8\"],[0.3333333333333333,\"#9c179e\"],[0.4444444444444444,\"#bd3786\"],[0.5555555555555556,\"#d8576b\"],[0.6666666666666666,\"#ed7953\"],[0.7777777777777778,\"#fb9f3a\"],[0.8888888888888888,\"#fdca26\"],[1.0,\"#f0f921\"]]}],\"mesh3d\":[{\"type\":\"mesh3d\",\"colorbar\":{\"outlinewidth\":0,\"ticks\":\"\"}}],\"scatter\":[{\"fillpattern\":{\"fillmode\":\"overlay\",\"size\":10,\"solidity\":0.2},\"type\":\"scatter\"}],\"parcoords\":[{\"type\":\"parcoords\",\"line\":{\"colorbar\":{\"outlinewidth\":0,\"ticks\":\"\"}}}],\"scatterpolargl\":[{\"type\":\"scatterpolargl\",\"marker\":{\"colorbar\":{\"outlinewidth\":0,\"ticks\":\"\"}}}],\"bar\":[{\"error_x\":{\"color\":\"#2a3f5f\"},\"error_y\":{\"color\":\"#2a3f5f\"},\"marker\":{\"line\":{\"color\":\"#E5ECF6\",\"width\":0.5},\"pattern\":{\"fillmode\":\"overlay\",\"size\":10,\"solidity\":0.2}},\"type\":\"bar\"}],\"scattergeo\":[{\"type\":\"scattergeo\",\"marker\":{\"colorbar\":{\"outlinewidth\":0,\"ticks\":\"\"}}}],\"scatterpolar\":[{\"type\":\"scatterpolar\",\"marker\":{\"colorbar\":{\"outlinewidth\":0,\"ticks\":\"\"}}}],\"histogram\":[{\"marker\":{\"pattern\":{\"fillmode\":\"overlay\",\"size\":10,\"solidity\":0.2}},\"type\":\"histogram\"}],\"scattergl\":[{\"type\":\"scattergl\",\"marker\":{\"colorbar\":{\"outlinewidth\":0,\"ticks\":\"\"}}}],\"scatter3d\":[{\"type\":\"scatter3d\",\"line\":{\"colorbar\":{\"outlinewidth\":0,\"ticks\":\"\"}},\"marker\":{\"colorbar\":{\"outlinewidth\":0,\"ticks\":\"\"}}}],\"scattermapbox\":[{\"type\":\"scattermapbox\",\"marker\":{\"colorbar\":{\"outlinewidth\":0,\"ticks\":\"\"}}}],\"scatterternary\":[{\"type\":\"scatterternary\",\"marker\":{\"colorbar\":{\"outlinewidth\":0,\"ticks\":\"\"}}}],\"scattercarpet\":[{\"type\":\"scattercarpet\",\"marker\":{\"colorbar\":{\"outlinewidth\":0,\"ticks\":\"\"}}}],\"carpet\":[{\"aaxis\":{\"endlinecolor\":\"#2a3f5f\",\"gridcolor\":\"white\",\"linecolor\":\"white\",\"minorgridcolor\":\"white\",\"startlinecolor\":\"#2a3f5f\"},\"baxis\":{\"endlinecolor\":\"#2a3f5f\",\"gridcolor\":\"white\",\"linecolor\":\"white\",\"minorgridcolor\":\"white\",\"startlinecolor\":\"#2a3f5f\"},\"type\":\"carpet\"}],\"table\":[{\"cells\":{\"fill\":{\"color\":\"#EBF0F8\"},\"line\":{\"color\":\"white\"}},\"header\":{\"fill\":{\"color\":\"#C8D4E3\"},\"line\":{\"color\":\"white\"}},\"type\":\"table\"}],\"barpolar\":[{\"marker\":{\"line\":{\"color\":\"#E5ECF6\",\"width\":0.5},\"pattern\":{\"fillmode\":\"overlay\",\"size\":10,\"solidity\":0.2}},\"type\":\"barpolar\"}],\"pie\":[{\"automargin\":true,\"type\":\"pie\"}]},\"layout\":{\"autotypenumbers\":\"strict\",\"colorway\":[\"#636efa\",\"#EF553B\",\"#00cc96\",\"#ab63fa\",\"#FFA15A\",\"#19d3f3\",\"#FF6692\",\"#B6E880\",\"#FF97FF\",\"#FECB52\"],\"font\":{\"color\":\"#2a3f5f\"},\"hovermode\":\"closest\",\"hoverlabel\":{\"align\":\"left\"},\"paper_bgcolor\":\"white\",\"plot_bgcolor\":\"#E5ECF6\",\"polar\":{\"bgcolor\":\"#E5ECF6\",\"angularaxis\":{\"gridcolor\":\"white\",\"linecolor\":\"white\",\"ticks\":\"\"},\"radialaxis\":{\"gridcolor\":\"white\",\"linecolor\":\"white\",\"ticks\":\"\"}},\"ternary\":{\"bgcolor\":\"#E5ECF6\",\"aaxis\":{\"gridcolor\":\"white\",\"linecolor\":\"white\",\"ticks\":\"\"},\"baxis\":{\"gridcolor\":\"white\",\"linecolor\":\"white\",\"ticks\":\"\"},\"caxis\":{\"gridcolor\":\"white\",\"linecolor\":\"white\",\"ticks\":\"\"}},\"coloraxis\":{\"colorbar\":{\"outlinewidth\":0,\"ticks\":\"\"}},\"colorscale\":{\"sequential\":[[0.0,\"#0d0887\"],[0.1111111111111111,\"#46039f\"],[0.2222222222222222,\"#7201a8\"],[0.3333333333333333,\"#9c179e\"],[0.4444444444444444,\"#bd3786\"],[0.5555555555555556,\"#d8576b\"],[0.6666666666666666,\"#ed7953\"],[0.7777777777777778,\"#fb9f3a\"],[0.8888888888888888,\"#fdca26\"],[1.0,\"#f0f921\"]],\"sequentialminus\":[[0.0,\"#0d0887\"],[0.1111111111111111,\"#46039f\"],[0.2222222222222222,\"#7201a8\"],[0.3333333333333333,\"#9c179e\"],[0.4444444444444444,\"#bd3786\"],[0.5555555555555556,\"#d8576b\"],[0.6666666666666666,\"#ed7953\"],[0.7777777777777778,\"#fb9f3a\"],[0.8888888888888888,\"#fdca26\"],[1.0,\"#f0f921\"]],\"diverging\":[[0,\"#8e0152\"],[0.1,\"#c51b7d\"],[0.2,\"#de77ae\"],[0.3,\"#f1b6da\"],[0.4,\"#fde0ef\"],[0.5,\"#f7f7f7\"],[0.6,\"#e6f5d0\"],[0.7,\"#b8e186\"],[0.8,\"#7fbc41\"],[0.9,\"#4d9221\"],[1,\"#276419\"]]},\"xaxis\":{\"gridcolor\":\"white\",\"linecolor\":\"white\",\"ticks\":\"\",\"title\":{\"standoff\":15},\"zerolinecolor\":\"white\",\"automargin\":true,\"zerolinewidth\":2},\"yaxis\":{\"gridcolor\":\"white\",\"linecolor\":\"white\",\"ticks\":\"\",\"title\":{\"standoff\":15},\"zerolinecolor\":\"white\",\"automargin\":true,\"zerolinewidth\":2},\"scene\":{\"xaxis\":{\"backgroundcolor\":\"#E5ECF6\",\"gridcolor\":\"white\",\"linecolor\":\"white\",\"showbackground\":true,\"ticks\":\"\",\"zerolinecolor\":\"white\",\"gridwidth\":2},\"yaxis\":{\"backgroundcolor\":\"#E5ECF6\",\"gridcolor\":\"white\",\"linecolor\":\"white\",\"showbackground\":true,\"ticks\":\"\",\"zerolinecolor\":\"white\",\"gridwidth\":2},\"zaxis\":{\"backgroundcolor\":\"#E5ECF6\",\"gridcolor\":\"white\",\"linecolor\":\"white\",\"showbackground\":true,\"ticks\":\"\",\"zerolinecolor\":\"white\",\"gridwidth\":2}},\"shapedefaults\":{\"line\":{\"color\":\"#2a3f5f\"}},\"annotationdefaults\":{\"arrowcolor\":\"#2a3f5f\",\"arrowhead\":0,\"arrowwidth\":1},\"geo\":{\"bgcolor\":\"white\",\"landcolor\":\"#E5ECF6\",\"subunitcolor\":\"white\",\"showland\":true,\"showlakes\":true,\"lakecolor\":\"white\"},\"title\":{\"x\":0.05},\"mapbox\":{\"style\":\"light\"}}},\"title\":{\"text\":\"Referrals (Others) from SNEE sub-icb's to other ICB'S\"},\"font\":{\"size\":11},\"height\":1000},                        {\"responsive\": true}                    ).then(function(){\n",
       "                            \n",
       "var gd = document.getElementById('cacc0ab8-4bc3-4bb6-addd-1693e0394716');\n",
       "var x = new MutationObserver(function (mutations, observer) {{\n",
       "        var display = window.getComputedStyle(gd).display;\n",
       "        if (!display || display === 'none') {{\n",
       "            console.log([gd, 'removed!']);\n",
       "            Plotly.purge(gd);\n",
       "            observer.disconnect();\n",
       "        }}\n",
       "}});\n",
       "\n",
       "// Listen for the removal of the full notebook cells\n",
       "var notebookContainer = gd.closest('#notebook-container');\n",
       "if (notebookContainer) {{\n",
       "    x.observe(notebookContainer, {childList: true});\n",
       "}}\n",
       "\n",
       "// Listen for the clearing of the current output cell\n",
       "var outputEl = gd.closest('.output');\n",
       "if (outputEl) {{\n",
       "    x.observe(outputEl, {childList: true});\n",
       "}}\n",
       "\n",
       "                        })                };                });            </script>        </div>"
      ]
     },
     "metadata": {},
     "output_type": "display_data"
    }
   ],
   "source": [
    "fig = go.Figure(data=[go.Sankey(\n",
    "    node = dict(\n",
    "        pad = 15,\n",
    "        thickness = 20,\n",
    "        line = dict(color='#231F20', width = 0.5),\n",
    "        label = nodes.tolist(),\n",
    "        color = '#330072'\n",
    "    ),\n",
    "    link = dict(\n",
    "      source = sankey_other_df['Commissioner Org Code'].map(lambda x: nodes.get_loc(x)),\n",
    "      target = sankey_other_df['Provider Parent name'].map(lambda x: nodes.get_loc(x)),\n",
    "      value = sankey_other_df['Others_ref']\n",
    "  ))])\n",
    "\n",
    "fig.update_layout(title_text=\"Referrals (Others) from SNEE sub-icb's to other ICB'S\", font_size = 11, height = 1000)\n",
    "fig.show()"
   ]
  },
  {
   "cell_type": "code",
   "execution_count": 136,
   "metadata": {},
   "outputs": [
    {
     "data": {
      "image/png": "[encoded data removed]",
      "text/plain": [
       "<Figure size 600x600 with 1 Axes>"
      ]
     },
     "metadata": {},
     "output_type": "display_data"
    }
   ],
   "source": [
    "from pySankey.sankey import sankey\n",
    "sankey (\n",
    "    left = snee_referrals_2['Provider Parent name'] , right = snee_referrals_2['Commissioner Org Code'],\n",
    "    leftWeight = snee_referrals_2['GP_Ref'] , rightWeight = snee_referrals_2['GP_Ref'],\n",
    "    fontsize = 12\n",
    ")\n",
    "plt.show()"
   ]
  }
 ],
 "metadata": {
  "kernelspec": {
   "display_name": "Python 3",
   "language": "python",
   "name": "python3"
  },
  "language_info": {
   "codemirror_mode": {
    "name": "ipython",
    "version": 3
   },
   "file_extension": ".py",
   "mimetype": "text/x-python",
   "name": "python",
   "nbconvert_exporter": "python",
   "pygments_lexer": "ipython3",
   "version": "3.10.13"
  }
 },
 "nbformat": 4,
 "nbformat_minor": 2
}
