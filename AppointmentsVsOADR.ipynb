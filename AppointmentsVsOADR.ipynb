{
 "cells": [
  {
   "cell_type": "code",
   "execution_count": 13,
   "metadata": {},
   "outputs": [],
   "source": [
    "import numpy as np\n",
    "import pandas as pd\n",
    "from schemas import DataCatalog\n",
    "import constants as const\n",
    "from ons_population import ONSPopulationScenario"
   ]
  },
  {
   "cell_type": "code",
   "execution_count": 2,
   "metadata": {},
   "outputs": [],
   "source": [
    "# load data catalog\n",
    "catalog =  DataCatalog.load_from_yaml(\"data_catalog.yaml\")"
   ]
  },
  {
   "cell_type": "code",
   "execution_count": 34,
   "metadata": {},
   "outputs": [],
   "source": [
    "OLD_AGE_OVER =65\n",
    "WORKING_AGE=20\n",
    "\n",
    "# OADR = number of pension in a population / working age in a population"
   ]
  },
  {
   "cell_type": "code",
   "execution_count": null,
   "metadata": {},
   "outputs": [],
   "source": [
    "# HYPOTHESIS : OADR could be a proxy for population complexity and therefore number of GP appointments per annum\n",
    "\n",
    "# calculate OADR for each ICB in 2021-22 (FY) and compare to number of appointments (per head of population), is there a correlation?\n",
    "# fit a model (linear sklearn)"
   ]
  },
  {
   "cell_type": "code",
   "execution_count": 21,
   "metadata": {},
   "outputs": [
    {
     "data": {
      "text/html": [
       "<div>\n",
       "<style scoped>\n",
       "    .dataframe tbody tr th:only-of-type {\n",
       "        vertical-align: middle;\n",
       "    }\n",
       "\n",
       "    .dataframe tbody tr th {\n",
       "        vertical-align: top;\n",
       "    }\n",
       "\n",
       "    .dataframe thead th {\n",
       "        text-align: right;\n",
       "    }\n",
       "</style>\n",
       "<table border=\"1\" class=\"dataframe\">\n",
       "  <thead>\n",
       "    <tr style=\"text-align: right;\">\n",
       "      <th></th>\n",
       "      <th>SUB_ICB_LOCATION_CODE</th>\n",
       "      <th>SUB_ICB_LOCATION_ONS_CODE</th>\n",
       "      <th>SUB_ICB_LOCATION_NAME</th>\n",
       "      <th>ICB_ONS_CODE</th>\n",
       "      <th>ICB_NAME</th>\n",
       "      <th>REGION_ONS_CODE</th>\n",
       "      <th>REGION_NAME</th>\n",
       "      <th>APPOINTMENT_MONTH</th>\n",
       "      <th>APPT_STATUS</th>\n",
       "      <th>HCP_TYPE</th>\n",
       "      <th>APPT_MODE</th>\n",
       "      <th>TIME_BETWEEN_BOOK_AND_APPT</th>\n",
       "      <th>COUNT_OF_APPOINTMENTS</th>\n",
       "    </tr>\n",
       "  </thead>\n",
       "  <tbody>\n",
       "    <tr>\n",
       "      <th>0</th>\n",
       "      <td>06L</td>\n",
       "      <td>E38000086</td>\n",
       "      <td>NHS Suffolk and North East Essex ICB - 06L</td>\n",
       "      <td>E54000023</td>\n",
       "      <td>NHS Suffolk and North East Essex Integrated Ca...</td>\n",
       "      <td>E40000007</td>\n",
       "      <td>East of England</td>\n",
       "      <td>MAR2021</td>\n",
       "      <td>Attended</td>\n",
       "      <td>GP</td>\n",
       "      <td>Face-to-Face</td>\n",
       "      <td>1 Day</td>\n",
       "      <td>3732</td>\n",
       "    </tr>\n",
       "    <tr>\n",
       "      <th>1</th>\n",
       "      <td>06L</td>\n",
       "      <td>E38000086</td>\n",
       "      <td>NHS Suffolk and North East Essex ICB - 06L</td>\n",
       "      <td>E54000023</td>\n",
       "      <td>NHS Suffolk and North East Essex Integrated Ca...</td>\n",
       "      <td>E40000007</td>\n",
       "      <td>East of England</td>\n",
       "      <td>MAR2021</td>\n",
       "      <td>Attended</td>\n",
       "      <td>GP</td>\n",
       "      <td>Face-to-Face</td>\n",
       "      <td>15  to 21 Days</td>\n",
       "      <td>459</td>\n",
       "    </tr>\n",
       "    <tr>\n",
       "      <th>2</th>\n",
       "      <td>06L</td>\n",
       "      <td>E38000086</td>\n",
       "      <td>NHS Suffolk and North East Essex ICB - 06L</td>\n",
       "      <td>E54000023</td>\n",
       "      <td>NHS Suffolk and North East Essex Integrated Ca...</td>\n",
       "      <td>E40000007</td>\n",
       "      <td>East of England</td>\n",
       "      <td>MAR2021</td>\n",
       "      <td>Attended</td>\n",
       "      <td>GP</td>\n",
       "      <td>Face-to-Face</td>\n",
       "      <td>2 to 7 Days</td>\n",
       "      <td>5365</td>\n",
       "    </tr>\n",
       "    <tr>\n",
       "      <th>3</th>\n",
       "      <td>06L</td>\n",
       "      <td>E38000086</td>\n",
       "      <td>NHS Suffolk and North East Essex ICB - 06L</td>\n",
       "      <td>E54000023</td>\n",
       "      <td>NHS Suffolk and North East Essex Integrated Ca...</td>\n",
       "      <td>E40000007</td>\n",
       "      <td>East of England</td>\n",
       "      <td>MAR2021</td>\n",
       "      <td>Attended</td>\n",
       "      <td>GP</td>\n",
       "      <td>Face-to-Face</td>\n",
       "      <td>22  to 28 Days</td>\n",
       "      <td>296</td>\n",
       "    </tr>\n",
       "    <tr>\n",
       "      <th>4</th>\n",
       "      <td>06L</td>\n",
       "      <td>E38000086</td>\n",
       "      <td>NHS Suffolk and North East Essex ICB - 06L</td>\n",
       "      <td>E54000023</td>\n",
       "      <td>NHS Suffolk and North East Essex Integrated Ca...</td>\n",
       "      <td>E40000007</td>\n",
       "      <td>East of England</td>\n",
       "      <td>MAR2021</td>\n",
       "      <td>Attended</td>\n",
       "      <td>GP</td>\n",
       "      <td>Face-to-Face</td>\n",
       "      <td>8  to 14 Days</td>\n",
       "      <td>1571</td>\n",
       "    </tr>\n",
       "  </tbody>\n",
       "</table>\n",
       "</div>"
      ],
      "text/plain": [
       "  SUB_ICB_LOCATION_CODE SUB_ICB_LOCATION_ONS_CODE  \\\n",
       "0                   06L                 E38000086   \n",
       "1                   06L                 E38000086   \n",
       "2                   06L                 E38000086   \n",
       "3                   06L                 E38000086   \n",
       "4                   06L                 E38000086   \n",
       "\n",
       "                        SUB_ICB_LOCATION_NAME ICB_ONS_CODE  \\\n",
       "0  NHS Suffolk and North East Essex ICB - 06L    E54000023   \n",
       "1  NHS Suffolk and North East Essex ICB - 06L    E54000023   \n",
       "2  NHS Suffolk and North East Essex ICB - 06L    E54000023   \n",
       "3  NHS Suffolk and North East Essex ICB - 06L    E54000023   \n",
       "4  NHS Suffolk and North East Essex ICB - 06L    E54000023   \n",
       "\n",
       "                                            ICB_NAME REGION_ONS_CODE  \\\n",
       "0  NHS Suffolk and North East Essex Integrated Ca...       E40000007   \n",
       "1  NHS Suffolk and North East Essex Integrated Ca...       E40000007   \n",
       "2  NHS Suffolk and North East Essex Integrated Ca...       E40000007   \n",
       "3  NHS Suffolk and North East Essex Integrated Ca...       E40000007   \n",
       "4  NHS Suffolk and North East Essex Integrated Ca...       E40000007   \n",
       "\n",
       "       REGION_NAME APPOINTMENT_MONTH APPT_STATUS HCP_TYPE     APPT_MODE  \\\n",
       "0  East of England           MAR2021    Attended       GP  Face-to-Face   \n",
       "1  East of England           MAR2021    Attended       GP  Face-to-Face   \n",
       "2  East of England           MAR2021    Attended       GP  Face-to-Face   \n",
       "3  East of England           MAR2021    Attended       GP  Face-to-Face   \n",
       "4  East of England           MAR2021    Attended       GP  Face-to-Face   \n",
       "\n",
       "  TIME_BETWEEN_BOOK_AND_APPT  COUNT_OF_APPOINTMENTS  \n",
       "0                      1 Day                   3732  \n",
       "1             15  to 21 Days                    459  \n",
       "2                2 to 7 Days                   5365  \n",
       "3             22  to 28 Days                    296  \n",
       "4              8  to 14 Days                   1571  "
      ]
     },
     "execution_count": 21,
     "metadata": {},
     "output_type": "execute_result"
    }
   ],
   "source": [
    "# this is the first in the dataset list\n",
    "gp_appts_catalog_entry = catalog.single_data_sources[0]\n",
    "gp_appts_df = gp_appts_catalog_entry.load()\n",
    "gp_appts_df.head()"
   ]
  },
  {
   "cell_type": "code",
   "execution_count": 38,
   "metadata": {},
   "outputs": [
    {
     "ename": "AttributeError",
     "evalue": "'ONSPopulationScenario' object has no attribute 'load'",
     "output_type": "error",
     "traceback": [
      "\u001b[0;31m---------------------------------------------------------------------------\u001b[0m",
      "\u001b[0;31mAttributeError\u001b[0m                            Traceback (most recent call last)",
      "\u001b[1;32m/workspaces/PrimaryCareDemandAndCapacity/AppointmentsVsOADR.ipynb Cell 5\u001b[0m line \u001b[0;36m2\n\u001b[1;32m      <a href='vscode-notebook-cell://codespaces%2Bsuper-duper-space-computing-machine-jr95pvw9pgqh5j46/workspaces/PrimaryCareDemandAndCapacity/AppointmentsVsOADR.ipynb#W6sdnNjb2RlLXJlbW90ZQ%3D%3D?line=0'>1</a>\u001b[0m ons_principal_projection \u001b[39m=\u001b[39m ONSPopulationScenario(catalog\u001b[39m.\u001b[39mscenario_data_sources[\u001b[39m0\u001b[39m]\u001b[39m.\u001b[39mscenarios[\u001b[39m0\u001b[39m])\n\u001b[0;32m----> <a href='vscode-notebook-cell://codespaces%2Bsuper-duper-space-computing-machine-jr95pvw9pgqh5j46/workspaces/PrimaryCareDemandAndCapacity/AppointmentsVsOADR.ipynb#W6sdnNjb2RlLXJlbW90ZQ%3D%3D?line=1'>2</a>\u001b[0m ons_df \u001b[39m=\u001b[39m ons_principal_projection\u001b[39m.\u001b[39;49mload()\n",
      "\u001b[0;31mAttributeError\u001b[0m: 'ONSPopulationScenario' object has no attribute 'load'"
     ]
    }
   ],
   "source": [
    "ons_principal_projection = ONSPopulationScenario(catalog.scenario_data_sources[0].scenarios[0])\n",
    "ons_df = ons_principal_projection.load()"
   ]
  }
 ],
 "metadata": {
  "kernelspec": {
   "display_name": ".venv",
   "language": "python",
   "name": "python3"
  },
  "language_info": {
   "codemirror_mode": {
    "name": "ipython",
    "version": 3
   },
   "file_extension": ".py",
   "mimetype": "text/x-python",
   "name": "python",
   "nbconvert_exporter": "python",
   "pygments_lexer": "ipython3",
   "version": "3.10.8"
  }
 },
 "nbformat": 4,
 "nbformat_minor": 2
}
